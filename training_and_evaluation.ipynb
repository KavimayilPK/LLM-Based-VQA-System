{
  "cells": [
    {
      "cell_type": "markdown",
      "metadata": {
        "id": "Cffg2i257iMS"
      },
      "source": [
        "# Image captioning with visual attention"
      ]
    },
    {
      "cell_type": "code",
      "execution_count": 135,
      "metadata": {
        "cellView": "form",
        "id": "U8l4RJ0XRPEm"
      },
      "outputs": [],
      "source": [
        "import collections\n",
        "import pathlib\n",
        "import re\n",
        "import string\n",
        "\n",
        "import einops\n",
        "import matplotlib.pyplot as plt\n",
        "import numpy as np\n",
        "import tqdm\n",
        "\n",
        "import tensorflow as tf\n",
        "import tensorflow_hub as hub\n",
        "import tensorflow_text as text\n",
        "import tensorflow_datasets as tfds"
      ]
    },
    {
      "cell_type": "markdown",
      "metadata": {
        "id": "wqGXX9Dc5c0v"
      },
      "source": [
        "#### Flickr8k"
      ]
    },
    {
      "cell_type": "code",
      "execution_count": 136,
      "metadata": {},
      "outputs": [],
      "source": [
        "import shutil\n",
        "import os\n",
        "    \n",
        "def moveFiles(source_dir, target_dir):\n",
        "    file_names = os.listdir(source_dir)\n",
        "        \n",
        "    for file_name in file_names:\n",
        "        if file_name=='__MACOSX':\n",
        "            continue\n",
        "        shutil.move(os.path.join(source_dir, file_name), target_dir)"
      ]
    },
    {
      "cell_type": "code",
      "execution_count": 137,
      "metadata": {
        "id": "kaNy_l7tGuAZ"
      },
      "outputs": [],
      "source": [
        "def flickr8k(path='flickr8k'):\n",
        "  import shutil\n",
        "  import os\n",
        "\n",
        "  path = pathlib.Path(path)\n",
        "\n",
        "  if len(list(path.rglob('*'))) < 16197:\n",
        "    tf.keras.utils.get_file(\n",
        "        origin='https://github.com/jbrownlee/Datasets/releases/download/Flickr8k/Flickr8k_Dataset.zip',\n",
        "        cache_dir='.',\n",
        "        cache_subdir=path,\n",
        "        extract=True)\n",
        "    \n",
        "    moveFiles(str(path)+'/Flickr8k_Dataset.zip', str(path))\n",
        "    \n",
        "    tf.keras.utils.get_file(\n",
        "        origin='https://github.com/jbrownlee/Datasets/releases/download/Flickr8k/Flickr8k_text.zip',\n",
        "        cache_dir='.',\n",
        "        cache_subdir=path,\n",
        "        extract=True)\n",
        "    \n",
        "    moveFiles(str(path)+'/Flickr8k_text.zip', str(path))\n",
        "\n",
        "  captions = (path/\"Flickr8k.token.txt\").read_text().splitlines()\n",
        "  captions = (line.split('\\t') for line in captions)\n",
        "  captions = ((fname.split('#')[0], caption) for (fname, caption) in captions)\n",
        "\n",
        "  cap_dict = collections.defaultdict(list)\n",
        "  for fname, cap in captions:\n",
        "    cap_dict[fname].append(cap)\n",
        "\n",
        "  train_files = (path/'Flickr_8k.trainImages.txt').read_text().splitlines()\n",
        "  train_captions = [(str(path/'Flicker8k_Dataset'/fname), cap_dict[fname]) for fname in train_files]\n",
        "\n",
        "  test_files = (path/'Flickr_8k.testImages.txt').read_text().splitlines()\n",
        "  test_captions = [(str(path/'Flicker8k_Dataset'/fname), cap_dict[fname]) for fname in test_files]\n",
        "\n",
        "  train_ds = tf.data.experimental.from_list(train_captions)\n",
        "  test_ds = tf.data.experimental.from_list(test_captions)\n",
        "\n",
        "  return train_ds, test_ds"
      ]
    },
    {
      "cell_type": "markdown",
      "metadata": {
        "id": "rBAagBw5p-TM"
      },
      "source": [
        "#### Download the dataset"
      ]
    },
    {
      "cell_type": "markdown",
      "metadata": {
        "id": "WFtTZaobquNr"
      },
      "source": [
        "The Flickr8k is a good choice because it contains 5-captions per image, more data for a smaller download."
      ]
    },
    {
      "cell_type": "code",
      "execution_count": 138,
      "metadata": {
        "id": "EJySPbzJ4Wxw"
      },
      "outputs": [],
      "source": [
        "import ssl\n",
        "ssl._create_default_https_context = ssl._create_unverified_context\n",
        "\n",
        "train_raw, test_raw = flickr8k()"
      ]
    },
    {
      "cell_type": "markdown",
      "metadata": {
        "id": "-UAc275FHxm8"
      },
      "source": [
        "The loaders for both datasets above return `tf.data.Dataset`s containing `(image_path, captions)` pairs. The Flickr8k dataset contains 5 captions per image, while Conceptual Captions has 1:"
      ]
    },
    {
      "cell_type": "code",
      "execution_count": 139,
      "metadata": {
        "id": "sAQSps5F8RQI"
      },
      "outputs": [
        {
          "data": {
            "text/plain": [
              "(TensorSpec(shape=(), dtype=tf.string, name=None),\n",
              " TensorSpec(shape=(5,), dtype=tf.string, name=None))"
            ]
          },
          "execution_count": 139,
          "metadata": {},
          "output_type": "execute_result"
        }
      ],
      "source": [
        "train_raw.element_spec"
      ]
    },
    {
      "cell_type": "markdown",
      "metadata": {
        "id": "8cSW4u-ORPFQ"
      },
      "source": [
        "### Image feature extractor \n"
      ]
    },
    {
      "cell_type": "code",
      "execution_count": 140,
      "metadata": {
        "id": "IlUckK8Zfikv"
      },
      "outputs": [],
      "source": [
        "IMAGE_SHAPE=(224, 224, 3)\n",
        "mobilenet = tf.keras.applications.MobileNetV3Small(\n",
        "    input_shape=IMAGE_SHAPE,\n",
        "    include_top=False,\n",
        "    include_preprocessing=True)\n",
        "mobilenet.trainable=False"
      ]
    },
    {
      "cell_type": "code",
      "execution_count": 141,
      "metadata": {
        "id": "zXR0217aRPFR"
      },
      "outputs": [],
      "source": [
        "def load_image(image_path):\n",
        "    img = tf.io.read_file(image_path)\n",
        "    img = tf.io.decode_jpeg(img, channels=3)\n",
        "    img = tf.image.resize(img, IMAGE_SHAPE[:-1])\n",
        "    return img"
      ]
    },
    {
      "cell_type": "markdown",
      "metadata": {
        "id": "nyqH3zFwRPFi"
      },
      "source": [
        "### Setup the text tokenizer/vectorizer"
      ]
    },
    {
      "cell_type": "code",
      "execution_count": 205,
      "metadata": {
        "id": "NroZIzB90hD3"
      },
      "outputs": [],
      "source": [
        "def standardize(s):\n",
        "  s = tf.strings.lower(s)\n",
        "  s = tf.strings.regex_replace(s, f'[{re.escape(string.punctuation)}]', '')\n",
        "  s = tf.strings.join(['[START]', s, '[END]'], separator=' ')\n",
        "  return s"
      ]
    },
    {
      "cell_type": "code",
      "execution_count": 206,
      "metadata": {
        "id": "n9SQOXFsyS36"
      },
      "outputs": [],
      "source": [
        "# Use the top 50000 words for a vocabulary.\n",
        "vocabulary_size = 50000\n",
        "tokenizer = tf.keras.layers.TextVectorization(\n",
        "    max_tokens=vocabulary_size,\n",
        "    standardize=standardize,\n",
        "    ragged=True)\n",
        "# Learn the vocabulary from the caption data."
      ]
    },
    {
      "cell_type": "code",
      "execution_count": 207,
      "metadata": {
        "id": "oJGE34aiRPFo"
      },
      "outputs": [],
      "source": [
        "tokenizer.adapt(train_raw.map(lambda fp,txt: txt).unbatch().batch(1024))"
      ]
    },
    {
      "cell_type": "code",
      "execution_count": 208,
      "metadata": {
        "id": "8Q44tNQVRPFt"
      },
      "outputs": [],
      "source": [
        "# Create mappings for words to indices and indices to words.\n",
        "word_to_index = tf.keras.layers.StringLookup(\n",
        "    mask_token=\"\",\n",
        "    vocabulary=tokenizer.get_vocabulary())\n",
        "index_to_word = tf.keras.layers.StringLookup(\n",
        "    mask_token=\"\",\n",
        "    vocabulary=tokenizer.get_vocabulary(),\n",
        "    invert=True)"
      ]
    },
    {
      "cell_type": "markdown",
      "metadata": {
        "id": "uEWM9xrYcg45"
      },
      "source": [
        "### Prepare the datasets"
      ]
    },
    {
      "cell_type": "code",
      "execution_count": 209,
      "metadata": {
        "id": "3_Lqwl9NiGT0"
      },
      "outputs": [],
      "source": [
        "def match_shapes(images, captions):\n",
        "  caption_shape = einops.parse_shape(captions, 'b c')\n",
        "  captions = einops.rearrange(captions, 'b c -> (b c)')\n",
        "  images = einops.repeat(\n",
        "      images, 'b ... -> (b c) ...',\n",
        "      c = caption_shape['c'])\n",
        "  return images, captions"
      ]
    },
    {
      "cell_type": "code",
      "execution_count": 210,
      "metadata": {
        "id": "CZGUsuGzUfzt"
      },
      "outputs": [
        {
          "name": "stdout",
          "output_type": "stream",
          "text": [
            "image paths: (32,)\n",
            "captions: (32, 5)\n",
            "\n",
            "image_paths: (160,)\n",
            "captions: (160,)\n"
          ]
        }
      ],
      "source": [
        "for ex_paths, ex_captions in train_raw.batch(32).take(1):\n",
        "  break\n",
        "\n",
        "print('image paths:', ex_paths.shape)\n",
        "print('captions:', ex_captions.shape)\n",
        "print()\n",
        "\n",
        "ex_paths, ex_captions = match_shapes(images=ex_paths, captions=ex_captions)\n",
        "\n",
        "print('image_paths:', ex_paths.shape)\n",
        "print('captions:', ex_captions.shape)\n"
      ]
    },
    {
      "cell_type": "code",
      "execution_count": 211,
      "metadata": {
        "id": "2DsgQ_hZT4C2"
      },
      "outputs": [],
      "source": [
        "def prepare_txt(imgs, txts):\n",
        "  tokens = tokenizer(txts)\n",
        "\n",
        "  input_tokens = tokens[..., :-1]\n",
        "  label_tokens = tokens[..., 1:]\n",
        "  return (imgs, input_tokens), label_tokens"
      ]
    },
    {
      "cell_type": "code",
      "execution_count": 212,
      "metadata": {
        "id": "4_Pt9zldjQ0q"
      },
      "outputs": [],
      "source": [
        "def prepare_dataset(ds, tokenizer, batch_size=32, shuffle_buffer=1000):\n",
        "  # Load the images and make batches.\n",
        "  ds = (ds\n",
        "        .shuffle(10000)\n",
        "        .map(lambda path, caption: (load_image(path), caption))\n",
        "        .apply(tf.data.experimental.ignore_errors())\n",
        "        .batch(batch_size))\n",
        "\n",
        "  def to_tensor(inputs, labels):\n",
        "    (images, in_tok), out_tok = inputs, labels\n",
        "    return (images, in_tok.to_tensor()), out_tok.to_tensor()\n",
        "\n",
        "  return (ds\n",
        "          .map(match_shapes, tf.data.AUTOTUNE)\n",
        "          .unbatch()\n",
        "          .shuffle(shuffle_buffer)\n",
        "          .batch(batch_size)\n",
        "          .map(prepare_txt, tf.data.AUTOTUNE)\n",
        "          .map(to_tensor, tf.data.AUTOTUNE)\n",
        "          )"
      ]
    },
    {
      "cell_type": "code",
      "execution_count": 213,
      "metadata": {
        "id": "1KlhOG5cjQ0r"
      },
      "outputs": [
        {
          "data": {
            "text/plain": [
              "((TensorSpec(shape=(None, 224, 224, 3), dtype=tf.float32, name=None),\n",
              "  TensorSpec(shape=(None, None), dtype=tf.int64, name=None)),\n",
              " TensorSpec(shape=(None, None), dtype=tf.int64, name=None))"
            ]
          },
          "execution_count": 213,
          "metadata": {},
          "output_type": "execute_result"
        }
      ],
      "source": [
        "train_ds = prepare_dataset(train_raw, tokenizer)\n",
        "train_ds.element_spec"
      ]
    },
    {
      "cell_type": "code",
      "execution_count": 214,
      "metadata": {
        "id": "d7Zy9F3zX7i2"
      },
      "outputs": [
        {
          "data": {
            "text/plain": [
              "((TensorSpec(shape=(None, 224, 224, 3), dtype=tf.float32, name=None),\n",
              "  TensorSpec(shape=(None, None), dtype=tf.int64, name=None)),\n",
              " TensorSpec(shape=(None, None), dtype=tf.int64, name=None))"
            ]
          },
          "execution_count": 214,
          "metadata": {},
          "output_type": "execute_result"
        }
      ],
      "source": [
        "test_ds = prepare_dataset(test_raw, tokenizer)\n",
        "test_ds.element_spec"
      ]
    },
    {
      "cell_type": "markdown",
      "metadata": {
        "id": "XZyKygJ8S8zW"
      },
      "source": [
        "### Cache the image features"
      ]
    },
    {
      "cell_type": "code",
      "execution_count": 215,
      "metadata": {
        "id": "9N1MX5ym6xm5"
      },
      "outputs": [],
      "source": [
        "def save_dataset(ds, save_path, image_model, tokenizer, shards=10, batch_size=32):\n",
        "  # Load the images and make batches.\n",
        "  ds = (ds\n",
        "        .map(lambda path, caption: (load_image(path), caption))\n",
        "        .apply(tf.data.experimental.ignore_errors())\n",
        "        .batch(batch_size))\n",
        "\n",
        "  # Run the feature extractor on each batch\n",
        "  # Don't do this in a .map, because tf.data runs on the CPU. \n",
        "  def gen():\n",
        "    for (images, captions) in tqdm.tqdm(ds): \n",
        "      feature_maps = image_model(images)\n",
        "\n",
        "      feature_maps, captions = match_shapes(feature_maps, captions)\n",
        "      yield feature_maps, captions\n",
        "\n",
        "  # Wrap the generator in a new tf.data.Dataset.\n",
        "  new_ds = tf.data.Dataset.from_generator(\n",
        "      gen,\n",
        "      output_signature=(\n",
        "          tf.TensorSpec(shape=image_model.output_shape),\n",
        "          tf.TensorSpec(shape=(None,), dtype=tf.string)))\n",
        "\n",
        "  # Apply the tokenization \n",
        "  new_ds = (new_ds\n",
        "            .map(prepare_txt, tf.data.AUTOTUNE)\n",
        "            .unbatch()\n",
        "            .shuffle(1000))\n",
        "\n",
        "  # Save the dataset into shard files.\n",
        "  def shard_func(i, item):\n",
        "    return i % shards\n",
        "  new_ds.enumerate().save(save_path, shard_func=shard_func)\n",
        "\n",
        "def load_dataset(save_path, batch_size=32, shuffle=1000, cycle_length=2):\n",
        "  def custom_reader_func(datasets):\n",
        "    datasets = datasets.shuffle(1000)\n",
        "    return datasets.interleave(lambda x: x, cycle_length=cycle_length)\n",
        "  \n",
        "  ds = tf.data.Dataset.load(save_path, reader_func=custom_reader_func)\n",
        "\n",
        "  def drop_index(i, x):\n",
        "    return x\n",
        "\n",
        "  ds = (ds\n",
        "        .map(drop_index, tf.data.AUTOTUNE)\n",
        "        .shuffle(shuffle)\n",
        "        .padded_batch(batch_size)\n",
        "        .prefetch(tf.data.AUTOTUNE))\n",
        "  return ds"
      ]
    },
    {
      "cell_type": "code",
      "execution_count": 216,
      "metadata": {
        "id": "tNdzrenxB3Yy"
      },
      "outputs": [
        {
          "name": "stderr",
          "output_type": "stream",
          "text": [
            "188it [01:15,  2.48it/s]\n",
            "32it [00:09,  3.36it/s]\n"
          ]
        }
      ],
      "source": [
        "save_dataset(train_raw, 'train_cache', mobilenet, tokenizer)\n",
        "save_dataset(test_raw, 'test_cache', mobilenet, tokenizer)"
      ]
    },
    {
      "cell_type": "markdown",
      "metadata": {
        "id": "798DtfH51UI8"
      },
      "source": [
        " </section>\n"
      ]
    },
    {
      "cell_type": "markdown",
      "metadata": {
        "id": "GI265LiDslr2"
      },
      "source": [
        "## Data ready for training\n",
        "\n",
        "After those preprocessing steps, here are the datasets:"
      ]
    },
    {
      "cell_type": "code",
      "execution_count": 217,
      "metadata": {
        "id": "Pwic2YCjHZmV"
      },
      "outputs": [],
      "source": [
        "train_ds = load_dataset('train_cache')\n",
        "test_ds = load_dataset('test_cache')"
      ]
    },
    {
      "cell_type": "code",
      "execution_count": 218,
      "metadata": {
        "id": "3B80JXj7HloX"
      },
      "outputs": [
        {
          "data": {
            "text/plain": [
              "((TensorSpec(shape=(None, 7, 7, 576), dtype=tf.float32, name=None),\n",
              "  TensorSpec(shape=(None, None), dtype=tf.int64, name=None)),\n",
              " TensorSpec(shape=(None, None), dtype=tf.int64, name=None))"
            ]
          },
          "execution_count": 218,
          "metadata": {},
          "output_type": "execute_result"
        }
      ],
      "source": [
        "train_ds.element_spec"
      ]
    },
    {
      "cell_type": "markdown",
      "metadata": {
        "id": "DfICM49WFpIb"
      },
      "source": [
        "## A Transformer decoder model"
      ]
    },
    {
      "cell_type": "markdown",
      "metadata": {
        "id": "_ngm3SQMCaYU"
      },
      "source": [
        "### Input"
      ]
    },
    {
      "cell_type": "code",
      "execution_count": 219,
      "metadata": {},
      "outputs": [],
      "source": [
        "def positional_encoding(length, depth):\n",
        "  depth = depth/2\n",
        "\n",
        "  positions = np.arange(length)[:, np.newaxis]     # (seq, 1)\n",
        "  depths = np.arange(depth)[np.newaxis, :]/depth   # (1, depth)\n",
        "\n",
        "  angle_rates = 1 / (10000**depths)         # (1, depth)\n",
        "  angle_rads = positions * angle_rates      # (pos, depth)\n",
        "\n",
        "  pos_encoding = np.concatenate(\n",
        "      [np.sin(angle_rads), np.cos(angle_rads)],\n",
        "      axis=-1) \n",
        "\n",
        "  return tf.cast(pos_encoding, dtype=tf.float32)"
      ]
    },
    {
      "cell_type": "code",
      "execution_count": 220,
      "metadata": {},
      "outputs": [],
      "source": [
        "class PositionalEmbedding(tf.keras.layers.Layer):\n",
        "  def __init__(self, vocab_size, depth):\n",
        "    super().__init__()\n",
        "    self.d_model = depth\n",
        "    self.embedding = tf.keras.layers.Embedding(vocab_size, depth, mask_zero=True) \n",
        "    self.pos_encoding = positional_encoding(length=2048, depth=depth)\n",
        "\n",
        "  def compute_mask(self, *args, **kwargs):\n",
        "    return self.embedding.compute_mask(*args, **kwargs)\n",
        "\n",
        "  def call(self, x):\n",
        "    length = tf.shape(x)[1]\n",
        "    x = self.embedding(x)\n",
        "    x *= tf.math.sqrt(tf.cast(self.d_model, tf.float32))\n",
        "    x = x + self.pos_encoding[tf.newaxis, :length, :]\n",
        "    return x"
      ]
    },
    {
      "cell_type": "markdown",
      "metadata": {
        "id": "II1mD-bBCdMB"
      },
      "source": [
        "### Decoder"
      ]
    },
    {
      "cell_type": "code",
      "execution_count": 221,
      "metadata": {
        "id": "6JTLiX3lKooQ"
      },
      "outputs": [],
      "source": [
        "class CausalSelfAttention(tf.keras.layers.Layer):\n",
        "  def __init__(self, **kwargs):\n",
        "    super().__init__()\n",
        "    self.mha = tf.keras.layers.MultiHeadAttention(**kwargs)\n",
        "    # Use Add instead of + so the keras mask propagates through.\n",
        "    self.add = tf.keras.layers.Add() \n",
        "    self.layernorm = tf.keras.layers.LayerNormalization()\n",
        "  \n",
        "  def call(self, x):\n",
        "    attn = self.mha(query=x, value=x,\n",
        "                    use_causal_mask=True)\n",
        "    x = self.add([x, attn])\n",
        "    return self.layernorm(x)\n"
      ]
    },
    {
      "cell_type": "code",
      "execution_count": 222,
      "metadata": {
        "id": "rIY6Vu2pLBAO"
      },
      "outputs": [],
      "source": [
        "class CrossAttention(tf.keras.layers.Layer):\n",
        "  def __init__(self,**kwargs):\n",
        "    super().__init__()\n",
        "    self.mha = tf.keras.layers.MultiHeadAttention(**kwargs)\n",
        "    self.add = tf.keras.layers.Add() \n",
        "    self.layernorm = tf.keras.layers.LayerNormalization()\n",
        "  \n",
        "  def call(self, x, y, **kwargs):\n",
        "    attn, attention_scores = self.mha(\n",
        "             query=x, value=y,\n",
        "             return_attention_scores=True)\n",
        "    \n",
        "    self.last_attention_scores = attention_scores\n",
        "\n",
        "    x = self.add([x, attn])\n",
        "    return self.layernorm(x)"
      ]
    },
    {
      "cell_type": "code",
      "execution_count": 223,
      "metadata": {
        "id": "cWKrl7teOnH2"
      },
      "outputs": [],
      "source": [
        "class FeedForward(tf.keras.layers.Layer):\n",
        "  def __init__(self, units, dropout_rate=0.1):\n",
        "    super().__init__()\n",
        "    self.seq = tf.keras.Sequential([\n",
        "        tf.keras.layers.Dense(units=2*units, activation='relu'),\n",
        "        tf.keras.layers.Dense(units=units),\n",
        "        tf.keras.layers.Dropout(rate=dropout_rate),\n",
        "    ])\n",
        "\n",
        "    self.layernorm = tf.keras.layers.LayerNormalization()\n",
        "  \n",
        "  def call(self, x):\n",
        "    x = x + self.seq(x)\n",
        "    return self.layernorm(x)\n"
      ]
    },
    {
      "cell_type": "code",
      "execution_count": 224,
      "metadata": {
        "id": "ydcW5KZZHou7"
      },
      "outputs": [],
      "source": [
        "class DecoderLayer(tf.keras.layers.Layer):\n",
        "  def __init__(self, units, num_heads=1, dropout_rate=0.1):\n",
        "    super().__init__()\n",
        "    \n",
        "    self.self_attention = CausalSelfAttention(num_heads=num_heads,\n",
        "                                              key_dim=units,\n",
        "                                              dropout=dropout_rate)\n",
        "    self.cross_attention = CrossAttention(num_heads=num_heads,\n",
        "                                          key_dim=units,\n",
        "                                          dropout=dropout_rate)\n",
        "    self.ff = FeedForward(units=units, dropout_rate=dropout_rate)\n",
        "      \n",
        "\n",
        "  def call(self, inputs, training=False):\n",
        "    in_seq, out_seq = inputs\n",
        "\n",
        "    # Text input\n",
        "    out_seq = self.self_attention(out_seq)\n",
        "\n",
        "    out_seq = self.cross_attention(out_seq, in_seq)\n",
        "    \n",
        "    self.last_attention_scores = self.cross_attention.last_attention_scores\n",
        "\n",
        "    out_seq = self.ff(out_seq)\n",
        "\n",
        "    return out_seq"
      ]
    },
    {
      "cell_type": "markdown",
      "metadata": {
        "id": "-lgbYrF5Csqu"
      },
      "source": [
        "### Output"
      ]
    },
    {
      "cell_type": "code",
      "execution_count": 225,
      "metadata": {
        "id": "CeWw2SFDHUfo"
      },
      "outputs": [],
      "source": [
        "#@title\n",
        "class TokenOutput(tf.keras.layers.Layer):\n",
        "  def __init__(self, tokenizer, banned_tokens=('', '[UNK]', '[START]'), **kwargs):\n",
        "    super().__init__(**kwargs)\n",
        "    \n",
        "    vocab_size = tokenizer.vocabulary_size()\n",
        "    self.dense = tf.keras.layers.Dense(\n",
        "        units=vocab_size, **kwargs)\n",
        "    self.tokenizer = tokenizer\n",
        "    self.banned_tokens = banned_tokens\n",
        "\n",
        "    self.bias = None\n",
        "\n",
        "  def adapt(self, ds):\n",
        "    counts = collections.Counter()\n",
        "    vocab_dict = {name: id \n",
        "                  for id, name in enumerate(self.tokenizer.get_vocabulary())}\n",
        "\n",
        "    for tokens in tqdm.tqdm(ds):\n",
        "      counts.update(tokens.numpy().flatten())\n",
        "\n",
        "    counts_arr = np.zeros(shape=(self.tokenizer.vocabulary_size(),))\n",
        "    counts_arr[np.array(list(counts.keys()), dtype=np.int32)] = list(counts.values())\n",
        "\n",
        "    counts_arr = counts_arr[:]\n",
        "    for token in self.banned_tokens:\n",
        "      counts_arr[vocab_dict[token]] = 0\n",
        "\n",
        "    total = counts_arr.sum()\n",
        "    p = counts_arr/total\n",
        "    p[counts_arr==0] = 1.0\n",
        "    log_p = np.log(p)  # log(1) == 0\n",
        "\n",
        "    entropy = -(log_p*p).sum()\n",
        "\n",
        "    print()\n",
        "    print(f\"Uniform entropy: {np.log(self.tokenizer.vocabulary_size()):0.2f}\")\n",
        "    print(f\"Marginal entropy: {entropy:0.2f}\")\n",
        "\n",
        "    self.bias = log_p\n",
        "    self.bias[counts_arr==0] = -1e9\n",
        "\n",
        "  def call(self, x):\n",
        "    x = self.dense(x)\n",
        "    return x + self.bias\n"
      ]
    },
    {
      "cell_type": "markdown",
      "metadata": {
        "id": "xzQHqANd1A6Q"
      },
      "source": [
        "The smart initialization will significantly reduce the initial loss:"
      ]
    },
    {
      "cell_type": "code",
      "execution_count": 226,
      "metadata": {
        "id": "GGnOQyc501B2"
      },
      "outputs": [
        {
          "name": "stderr",
          "output_type": "stream",
          "text": [
            "  0%|          | 0/938 [00:00<?, ?it/s]"
          ]
        },
        {
          "name": "stderr",
          "output_type": "stream",
          "text": [
            "100%|██████████| 938/938 [00:06<00:00, 145.61it/s]\n"
          ]
        },
        {
          "name": "stdout",
          "output_type": "stream",
          "text": [
            "\n",
            "Uniform entropy: 8.94\n",
            "Marginal entropy: 5.36\n"
          ]
        }
      ],
      "source": [
        "output_layer = TokenOutput(tokenizer, banned_tokens=('', '[UNK]', '[START]'))\n",
        "# This might run a little faster if the dataset didn't also have to load the image data.\n",
        "output_layer.adapt(train_ds.map(lambda inputs, labels: labels))"
      ]
    },
    {
      "cell_type": "markdown",
      "metadata": {
        "id": "3gq-ICN7bD-u"
      },
      "source": [
        "### Build the model"
      ]
    },
    {
      "cell_type": "markdown",
      "metadata": {
        "id": "gou4fPH_SWgH"
      },
      "source": [
        "To build the model, you need to combine several parts:\n",
        "\n",
        "1. The image `feature_extractor` and the text `tokenizer` and.\n",
        "1. The `seq_embedding` layer, to convert batches of token-IDs to \n",
        "   vectors `(batch, sequence, channels)`.\n",
        "3. The stack of `DecoderLayers` layers that will process the text and image data.\n",
        "4. The `output_layer` which returns a pointwise prediction of what the next word should be."
      ]
    },
    {
      "cell_type": "code",
      "execution_count": 227,
      "metadata": {
        "id": "bHCISYehH1f6"
      },
      "outputs": [],
      "source": [
        "class Captioner(tf.keras.Model):\n",
        "  @classmethod\n",
        "  def add_method(cls, fun):\n",
        "    setattr(cls, fun.__name__, fun)\n",
        "    return fun\n",
        "\n",
        "  def __init__(self, tokenizer, feature_extractor, output_layer, num_layers=1,\n",
        "               units=256, max_length=50, num_heads=1, dropout_rate=0.1, **kwargs):\n",
        "    super().__init__(**kwargs)\n",
        "    \n",
        "    self.max_length = max_length\n",
        "\n",
        "    self.feature_extractor = feature_extractor\n",
        "    self.tokenizer = tokenizer\n",
        "    self.word_to_index = tf.keras.layers.StringLookup(\n",
        "        mask_token=\"\",\n",
        "        vocabulary=tokenizer.get_vocabulary())\n",
        "    self.index_to_word = tf.keras.layers.StringLookup(\n",
        "        mask_token=\"\",\n",
        "        vocabulary=tokenizer.get_vocabulary(),\n",
        "        invert=True) \n",
        "    \n",
        "    self.seq_embedding = PositionalEmbedding(\n",
        "        vocab_size=tokenizer.vocabulary_size(),\n",
        "        depth=units)\n",
        "\n",
        "    self.decoder_layers = [\n",
        "        DecoderLayer(units, num_heads=num_heads, dropout_rate=dropout_rate)\n",
        "        for n in range(num_layers)]\n",
        "\n",
        "    self.output_layer = output_layer"
      ]
    },
    {
      "cell_type": "code",
      "execution_count": 228,
      "metadata": {
        "id": "lPdb7I4h9Ulo"
      },
      "outputs": [],
      "source": [
        "@Captioner.add_method\n",
        "def call(self, inputs):\n",
        "  image, txt = inputs\n",
        "\n",
        "  if image.shape[-1] == 3:\n",
        "    # Apply the feature-extractor, if you get an RGB image.\n",
        "    image = self.feature_extractor(image)\n",
        "  \n",
        "  # Flatten the feature map\n",
        "  image = einops.rearrange(image, 'b h w c -> b (h w) c')\n",
        "\n",
        "\n",
        "  if txt.dtype == tf.string:\n",
        "    # Apply the tokenizer if you get string inputs.\n",
        "    txt = tokenizer(txt)\n",
        "\n",
        "  txt = self.seq_embedding(txt)\n",
        "\n",
        "  # Look at the image\n",
        "  for dec_layer in self.decoder_layers:\n",
        "    txt = dec_layer(inputs=(image, txt))\n",
        "    \n",
        "  txt = self.output_layer(txt)\n",
        "\n",
        "  return txt"
      ]
    },
    {
      "cell_type": "code",
      "execution_count": 266,
      "metadata": {
        "id": "kmM7aZQsLiyU"
      },
      "outputs": [],
      "source": [
        "model = Captioner(tokenizer, feature_extractor=mobilenet, output_layer=output_layer,\n",
        "                  units=256, max_length=100, dropout_rate=0.5, num_layers=3, num_heads=4)"
      ]
    },
    {
      "cell_type": "markdown",
      "metadata": {
        "id": "xGvOcLQKghXN"
      },
      "source": [
        "### Generate captions"
      ]
    },
    {
      "cell_type": "code",
      "execution_count": 267,
      "metadata": {
        "id": "cwFcdMqC-jE2"
      },
      "outputs": [],
      "source": [
        "image_url = 'https://tensorflow.org/images/surf.jpg'\n",
        "image_path = tf.keras.utils.get_file('surf.jpg', origin=image_url)\n",
        "image = load_image(image_path)"
      ]
    },
    {
      "cell_type": "code",
      "execution_count": 268,
      "metadata": {},
      "outputs": [],
      "source": [
        "@Captioner.add_method\n",
        "def simple_gen(self, image, temperature=1, initial_keywords=[]):\n",
        "\n",
        "  initial = self.word_to_index([['[START]']]) # (batch, sequence)\n",
        "\n",
        "  initial_keywords = ['[START]'] + initial_keywords\n",
        "  initial = self.word_to_index([initial_keywords]) # (batch, sequence)\n",
        "\n",
        "  img_features = self.feature_extractor(image[tf.newaxis, ...])\n",
        "\n",
        "  tokens = initial # (batch, sequence)\n",
        "\n",
        "  for n in range(self.max_length):\n",
        "    preds = self((img_features, tokens)).numpy()  # (batch, sequence, vocab)\n",
        "    preds = preds[:,-1, :]  #(batch, vocab)\n",
        "    if temperature==0:\n",
        "        next = tf.argmax(preds, axis=-1)[:, tf.newaxis]  # (batch, 1)\n",
        "    else:\n",
        "        next = tf.random.categorical(preds/temperature, num_samples=1)  # (batch, 1)\n",
        "\n",
        "    tokens = tf.concat([tokens, next], axis=1) # (batch, sequence)\n",
        "\n",
        "    if next[0] == self.word_to_index('[END]'):\n",
        "      break\n",
        "\n",
        "  words = index_to_word(tokens[0, 1:-1])\n",
        "  result = tf.strings.reduce_join(words, axis=-1, separator=' ')\n",
        "  return result.numpy().decode()"
      ]
    },
    {
      "cell_type": "markdown",
      "metadata": {
        "id": "r0FpTvaPkqON"
      },
      "source": [
        "## Train"
      ]
    },
    {
      "cell_type": "markdown",
      "metadata": {
        "id": "IKcwZdqObK-U"
      },
      "source": [
        "To train the model you'll need several additional components:\n",
        "\n",
        "- The Loss and metrics\n",
        "- The Optimizer\n",
        "- Optional Callbacks"
      ]
    },
    {
      "cell_type": "markdown",
      "metadata": {
        "id": "g5IW2mWa2sAG"
      },
      "source": [
        "### Losses and metrics"
      ]
    },
    {
      "cell_type": "markdown",
      "metadata": {
        "id": "XbpbDQTw1lOW"
      },
      "source": [
        "Here's an implementation of a masked loss and accuracy:\n",
        "\n",
        "When calculating the mask for the loss, note the `loss < 1e8`. This term discards the artificial, impossibly high losses for the `banned_tokens`."
      ]
    },
    {
      "cell_type": "code",
      "execution_count": 269,
      "metadata": {
        "id": "s24im3FqxAfT"
      },
      "outputs": [],
      "source": [
        "def masked_loss(labels, preds):  \n",
        "  # print(labels)\n",
        "  labels = tf.cast(labels, tf.int64)\n",
        "\n",
        "  loss = tf.nn.sparse_softmax_cross_entropy_with_logits(labels, preds)\n",
        "\n",
        "  mask = (labels != 0) & (loss < 1e8) \n",
        "  mask = tf.cast(mask, loss.dtype)\n",
        "\n",
        "  loss = loss*mask\n",
        "  loss = tf.reduce_sum(loss)/tf.reduce_sum(mask)\n",
        "  return loss\n",
        "\n",
        "def masked_acc(labels, preds):\n",
        "  mask = tf.cast(labels!=0, tf.float32)\n",
        "  preds = tf.argmax(preds, axis=-1)\n",
        "  labels = tf.cast(labels, tf.int64)\n",
        "  match = tf.cast(preds == labels, mask.dtype)\n",
        "  acc = tf.reduce_sum(match*mask)/tf.reduce_sum(mask)\n",
        "  return acc"
      ]
    },
    {
      "cell_type": "markdown",
      "metadata": {
        "id": "zOhjHqgv3F2e"
      },
      "source": [
        "### Callbacks"
      ]
    },
    {
      "cell_type": "markdown",
      "metadata": {
        "id": "3dyQN9UfJYEd"
      },
      "source": [
        "For feedback during training setup a `keras.callbacks.Callback` to generate some captions for the surfer image at the end of each epoch."
      ]
    },
    {
      "cell_type": "code",
      "execution_count": 270,
      "metadata": {
        "id": "IKDwbZOCZ-AP"
      },
      "outputs": [],
      "source": [
        "class GenerateText(tf.keras.callbacks.Callback):\n",
        "  def __init__(self):\n",
        "    image_url = 'https://tensorflow.org/images/surf.jpg'\n",
        "    image_path = tf.keras.utils.get_file('surf.jpg', origin=image_url)\n",
        "    self.image = load_image(image_path)\n",
        "\n",
        "  def on_epoch_end(self, epochs=None, logs=None):\n",
        "    print()\n",
        "    print()\n",
        "    for t in (0.0, 0.5, 1.0):\n",
        "      result = self.model.simple_gen(self.image, temperature=t)\n",
        "      print(result)\n",
        "    print()\n"
      ]
    },
    {
      "cell_type": "markdown",
      "metadata": {
        "id": "MAxp4KZRKDk9"
      },
      "source": [
        "Also use `callbacks.EarlyStopping` to terminate training when the model starts to overfit."
      ]
    },
    {
      "cell_type": "code",
      "execution_count": 271,
      "metadata": {
        "id": "MjzrwGZp23xx"
      },
      "outputs": [],
      "source": [
        "callbacks = [\n",
        "    GenerateText(),\n",
        "    tf.keras.callbacks.EarlyStopping(\n",
        "        patience=10, restore_best_weights=True)]"
      ]
    },
    {
      "cell_type": "markdown",
      "metadata": {
        "id": "ZBaJhQpcG8u0"
      },
      "source": [
        "### Train"
      ]
    },
    {
      "cell_type": "code",
      "execution_count": 272,
      "metadata": {
        "id": "2OR5ZpAII__u"
      },
      "outputs": [],
      "source": [
        "model.compile(optimizer=tf.keras.optimizers.Adam(learning_rate=1e-4),\n",
        "           loss=masked_loss,\n",
        "           metrics=[masked_acc])"
      ]
    },
    {
      "cell_type": "code",
      "execution_count": 273,
      "metadata": {
        "id": "3aB0baOVMZe9"
      },
      "outputs": [
        {
          "name": "stdout",
          "output_type": "stream",
          "text": [
            "Epoch 1/100\n"
          ]
        },
        {
          "name": "stderr",
          "output_type": "stream",
          "text": [
            "/Users/HP/Documents/Documents - Mac/CS 6384 Computer Vision/project-cv/llm-based-VQA-system/.venv/lib/python3.11/site-packages/keras/src/layers/layer.py:396: UserWarning: `build()` was called on layer 'captioner_3', however the layer does not have a `build()` method implemented and it looks like it has unbuilt state. This will cause the layer to be marked as built, despite not being actually built, which may cause failures down the line. Make sure to implement a proper `build()` method.\n",
            "  warnings.warn(\n",
            "/Users/HP/Documents/Documents - Mac/CS 6384 Computer Vision/project-cv/llm-based-VQA-system/.venv/lib/python3.11/site-packages/keras/src/layers/layer.py:940: UserWarning: Layer 'causal_self_attention_7' (of type CausalSelfAttention) was passed an input with a mask attached to it. However, this layer does not support masking and will therefore destroy the mask information. Downstream layers will not see the mask.\n",
            "  warnings.warn(\n",
            "/Users/HP/Documents/Documents - Mac/CS 6384 Computer Vision/project-cv/llm-based-VQA-system/.venv/lib/python3.11/site-packages/keras/src/layers/layer.py:940: UserWarning: Layer 'decoder_layer_7' (of type DecoderLayer) was passed an input with a mask attached to it. However, this layer does not support masking and will therefore destroy the mask information. Downstream layers will not see the mask.\n",
            "  warnings.warn(\n"
          ]
        },
        {
          "name": "stdout",
          "output_type": "stream",
          "text": [
            "\u001b[1m100/100\u001b[0m \u001b[32m━━━━━━━━━━━━━━━━━━━━\u001b[0m\u001b[37m\u001b[0m \u001b[1m0s\u001b[0m 1s/step - loss: 4.6360 - masked_acc: 0.2097\n",
            "\n"
          ]
        },
        {
          "name": "stderr",
          "output_type": "stream",
          "text": [
            "/Users/HP/Documents/Documents - Mac/CS 6384 Computer Vision/project-cv/llm-based-VQA-system/.venv/lib/python3.11/site-packages/keras/src/ops/nn.py:908: UserWarning: You are using a softmax over axis 3 of a tensor of shape (1, 4, 1, 1). This axis has size 1. The softmax operation will always return the value 1, which is likely not what you intended. Did you mean to use a sigmoid instead?\n",
            "  warnings.warn(\n"
          ]
        },
        {
          "name": "stdout",
          "output_type": "stream",
          "text": [
            "a boy in a blue shirt is in a water\n",
            "a little boy is in a red and white swimsuit\n",
            "a girl is sitting down the water pool\n",
            "\n",
            "\u001b[1m100/100\u001b[0m \u001b[32m━━━━━━━━━━━━━━━━━━━━\u001b[0m\u001b[37m\u001b[0m \u001b[1m129s\u001b[0m 1s/step - loss: 4.6321 - masked_acc: 0.2101 - val_loss: 3.7375 - val_masked_acc: 0.3067\n",
            "Epoch 2/100\n",
            "\u001b[1m100/100\u001b[0m \u001b[32m━━━━━━━━━━━━━━━━━━━━\u001b[0m\u001b[37m\u001b[0m \u001b[1m0s\u001b[0m 849ms/step - loss: 3.7146 - masked_acc: 0.3126\n",
            "\n",
            "a man in a blue shirt is in the water\n",
            "a young boy wearing a blue pants is jumping into a wave\n",
            "dogs playfully in the pool\n",
            "\n",
            "\u001b[1m100/100\u001b[0m \u001b[32m━━━━━━━━━━━━━━━━━━━━\u001b[0m\u001b[37m\u001b[0m \u001b[1m97s\u001b[0m 976ms/step - loss: 3.7139 - masked_acc: 0.3127 - val_loss: 3.5811 - val_masked_acc: 0.3264\n",
            "Epoch 3/100\n",
            "\u001b[1m100/100\u001b[0m \u001b[32m━━━━━━━━━━━━━━━━━━━━\u001b[0m\u001b[37m\u001b[0m \u001b[1m0s\u001b[0m 992ms/step - loss: 3.4997 - masked_acc: 0.3376\n",
            "\n",
            "a man in a blue shirt is in the water\n",
            "a man in a blue wetsuit on the water\n",
            "a man and the man wearing a yellow and standing on a pool\n",
            "\n",
            "\u001b[1m100/100\u001b[0m \u001b[32m━━━━━━━━━━━━━━━━━━━━\u001b[0m\u001b[37m\u001b[0m \u001b[1m108s\u001b[0m 1s/step - loss: 3.4996 - masked_acc: 0.3377 - val_loss: 3.4810 - val_masked_acc: 0.3458\n",
            "Epoch 4/100\n",
            "\u001b[1m100/100\u001b[0m \u001b[32m━━━━━━━━━━━━━━━━━━━━\u001b[0m\u001b[37m\u001b[0m \u001b[1m0s\u001b[0m 874ms/step - loss: 3.3901 - masked_acc: 0.3552\n",
            "\n",
            "a man in a blue shirt is swimming in the water\n",
            "a man in a white wetsuit is surfing a wave\n",
            "a in trunks wave of a boat beside a wave\n",
            "\n",
            "\u001b[1m100/100\u001b[0m \u001b[32m━━━━━━━━━━━━━━━━━━━━\u001b[0m\u001b[37m\u001b[0m \u001b[1m98s\u001b[0m 989ms/step - loss: 3.3899 - masked_acc: 0.3552 - val_loss: 3.2765 - val_masked_acc: 0.3596\n",
            "Epoch 5/100\n",
            "\u001b[1m100/100\u001b[0m \u001b[32m━━━━━━━━━━━━━━━━━━━━\u001b[0m\u001b[37m\u001b[0m \u001b[1m0s\u001b[0m 928ms/step - loss: 3.3080 - masked_acc: 0.3658\n",
            "\n",
            "a man in a red shirt is surfing a wave\n",
            "a man in a red hat with a surfboard\n",
            "a man is playing each picture in the air into the water\n",
            "\n",
            "\u001b[1m100/100\u001b[0m \u001b[32m━━━━━━━━━━━━━━━━━━━━\u001b[0m\u001b[37m\u001b[0m \u001b[1m101s\u001b[0m 1s/step - loss: 3.3078 - masked_acc: 0.3659 - val_loss: 3.2198 - val_masked_acc: 0.3677\n",
            "Epoch 6/100\n",
            "\u001b[1m100/100\u001b[0m \u001b[32m━━━━━━━━━━━━━━━━━━━━\u001b[0m\u001b[37m\u001b[0m \u001b[1m0s\u001b[0m 695ms/step - loss: 3.2178 - masked_acc: 0.3793\n",
            "\n",
            "a man in a red shirt is surfing in the ocean\n",
            "a surfer in a yellow wetsuit is in a swimming pool\n",
            "a boy in a waves on a huge surfboard\n",
            "\n",
            "\u001b[1m100/100\u001b[0m \u001b[32m━━━━━━━━━━━━━━━━━━━━\u001b[0m\u001b[37m\u001b[0m \u001b[1m77s\u001b[0m 768ms/step - loss: 3.2177 - masked_acc: 0.3793 - val_loss: 3.1382 - val_masked_acc: 0.3718\n",
            "Epoch 7/100\n",
            "\u001b[1m100/100\u001b[0m \u001b[32m━━━━━━━━━━━━━━━━━━━━\u001b[0m\u001b[37m\u001b[0m \u001b[1m0s\u001b[0m 713ms/step - loss: 3.2097 - masked_acc: 0.3750\n",
            "\n",
            "a man in a blue shirt is surfing in the water\n",
            "a surfer in a blue shirt is riding a wave\n",
            "two young boys wrestlers splash in the water\n",
            "\n",
            "\u001b[1m100/100\u001b[0m \u001b[32m━━━━━━━━━━━━━━━━━━━━\u001b[0m\u001b[37m\u001b[0m \u001b[1m78s\u001b[0m 785ms/step - loss: 3.2095 - masked_acc: 0.3750 - val_loss: 3.1362 - val_masked_acc: 0.3764\n",
            "Epoch 8/100\n",
            "\u001b[1m100/100\u001b[0m \u001b[32m━━━━━━━━━━━━━━━━━━━━\u001b[0m\u001b[37m\u001b[0m \u001b[1m0s\u001b[0m 755ms/step - loss: 3.1689 - masked_acc: 0.3806\n",
            "\n",
            "a man in a red shirt is surfing a wave\n",
            "a man is surfing a wave\n",
            "a surfer holding a wave with a swimming surfboard\n",
            "\n",
            "\u001b[1m100/100\u001b[0m \u001b[32m━━━━━━━━━━━━━━━━━━━━\u001b[0m\u001b[37m\u001b[0m \u001b[1m86s\u001b[0m 861ms/step - loss: 3.1687 - masked_acc: 0.3806 - val_loss: 3.0558 - val_masked_acc: 0.3845\n",
            "Epoch 9/100\n",
            "\u001b[1m100/100\u001b[0m \u001b[32m━━━━━━━━━━━━━━━━━━━━\u001b[0m\u001b[37m\u001b[0m \u001b[1m0s\u001b[0m 971ms/step - loss: 3.1166 - masked_acc: 0.3838\n",
            "\n",
            "a man in a red wetsuit is surfing\n",
            "a man in the blue wetsuit is surfing at a wave\n",
            "a surfer kicks the splashes into the wave\n",
            "\n",
            "\u001b[1m100/100\u001b[0m \u001b[32m━━━━━━━━━━━━━━━━━━━━\u001b[0m\u001b[37m\u001b[0m \u001b[1m108s\u001b[0m 1s/step - loss: 3.1168 - masked_acc: 0.3838 - val_loss: 3.1525 - val_masked_acc: 0.3752\n",
            "Epoch 10/100\n",
            "\u001b[1m100/100\u001b[0m \u001b[32m━━━━━━━━━━━━━━━━━━━━\u001b[0m\u001b[37m\u001b[0m \u001b[1m0s\u001b[0m 886ms/step - loss: 3.1182 - masked_acc: 0.3894\n",
            "\n",
            "a man in a yellow wetsuit is surfing\n",
            "a man in a blue wetsuit is on a surfboard\n",
            "a boat skier in the goggles is surfing playing the wave\n",
            "\n",
            "\u001b[1m100/100\u001b[0m \u001b[32m━━━━━━━━━━━━━━━━━━━━\u001b[0m\u001b[37m\u001b[0m \u001b[1m97s\u001b[0m 970ms/step - loss: 3.1174 - masked_acc: 0.3894 - val_loss: 3.0913 - val_masked_acc: 0.3798\n",
            "Epoch 11/100\n",
            "\u001b[1m100/100\u001b[0m \u001b[32m━━━━━━━━━━━━━━━━━━━━\u001b[0m\u001b[37m\u001b[0m \u001b[1m0s\u001b[0m 870ms/step - loss: 2.9467 - masked_acc: 0.4007\n",
            "\n",
            "a man in a red shirt is surfing a wave\n",
            "a person in a blue wetsuit is a wave\n",
            "one man a person wings a bow in the wave on a wave\n",
            "\n",
            "\u001b[1m100/100\u001b[0m \u001b[32m━━━━━━━━━━━━━━━━━━━━\u001b[0m\u001b[37m\u001b[0m \u001b[1m96s\u001b[0m 959ms/step - loss: 2.9469 - masked_acc: 0.4007 - val_loss: 3.0078 - val_masked_acc: 0.3858\n",
            "Epoch 12/100\n",
            "\u001b[1m100/100\u001b[0m \u001b[32m━━━━━━━━━━━━━━━━━━━━\u001b[0m\u001b[37m\u001b[0m \u001b[1m0s\u001b[0m 901ms/step - loss: 2.9325 - masked_acc: 0.4079\n",
            "\n",
            "a surfer in a red and white wetsuit is in the water\n",
            "a man in red and a wetsuit is in a kayak\n",
            "a clown wave and wave\n",
            "\n",
            "\u001b[1m100/100\u001b[0m \u001b[32m━━━━━━━━━━━━━━━━━━━━\u001b[0m\u001b[37m\u001b[0m \u001b[1m99s\u001b[0m 992ms/step - loss: 2.9325 - masked_acc: 0.4079 - val_loss: 3.0725 - val_masked_acc: 0.3865\n",
            "Epoch 13/100\n",
            "\u001b[1m100/100\u001b[0m \u001b[32m━━━━━━━━━━━━━━━━━━━━\u001b[0m\u001b[37m\u001b[0m \u001b[1m0s\u001b[0m 973ms/step - loss: 2.9277 - masked_acc: 0.4082\n",
            "\n",
            "a surfer in a red shirt is surfing a wave\n",
            "a surfer in a yellow shirt is surfing on a wave\n",
            "a boat is going through the ocean into one battle wave and smiles\n",
            "\n",
            "\u001b[1m100/100\u001b[0m \u001b[32m━━━━━━━━━━━━━━━━━━━━\u001b[0m\u001b[37m\u001b[0m \u001b[1m109s\u001b[0m 1s/step - loss: 2.9275 - masked_acc: 0.4082 - val_loss: 3.0260 - val_masked_acc: 0.3831\n",
            "Epoch 14/100\n",
            "\u001b[1m100/100\u001b[0m \u001b[32m━━━━━━━━━━━━━━━━━━━━\u001b[0m\u001b[37m\u001b[0m \u001b[1m0s\u001b[0m 1s/step - loss: 2.9540 - masked_acc: 0.4037\n",
            "\n",
            "a surfer in a red shirt is surfing\n",
            "a surfer in a white wetsuit is in the ocean\n",
            "person wearing a checks a stick in the harness in the ocean\n",
            "\n",
            "\u001b[1m100/100\u001b[0m \u001b[32m━━━━━━━━━━━━━━━━━━━━\u001b[0m\u001b[37m\u001b[0m \u001b[1m119s\u001b[0m 1s/step - loss: 2.9536 - masked_acc: 0.4037 - val_loss: 2.9632 - val_masked_acc: 0.3915\n",
            "Epoch 15/100\n",
            "\u001b[1m100/100\u001b[0m \u001b[32m━━━━━━━━━━━━━━━━━━━━\u001b[0m\u001b[37m\u001b[0m \u001b[1m0s\u001b[0m 901ms/step - loss: 2.8754 - masked_acc: 0.4182\n",
            "\n",
            "a surfer in a wetsuit is surfing\n",
            "a surfer in a wetsuit in a blue boat in the ocean\n",
            "two people ride a wave\n",
            "\n",
            "\u001b[1m100/100\u001b[0m \u001b[32m━━━━━━━━━━━━━━━━━━━━\u001b[0m\u001b[37m\u001b[0m \u001b[1m98s\u001b[0m 984ms/step - loss: 2.8754 - masked_acc: 0.4182 - val_loss: 3.0068 - val_masked_acc: 0.3855\n",
            "Epoch 16/100\n",
            "\u001b[1m100/100\u001b[0m \u001b[32m━━━━━━━━━━━━━━━━━━━━\u001b[0m\u001b[37m\u001b[0m \u001b[1m0s\u001b[0m 791ms/step - loss: 2.8321 - masked_acc: 0.4166\n",
            "\n",
            "a man in a red wetsuit is surfing\n",
            "a person in a white wetsuit is surfing\n",
            "this bearded kayak in a red surfer on by something\n",
            "\n",
            "\u001b[1m100/100\u001b[0m \u001b[32m━━━━━━━━━━━━━━━━━━━━\u001b[0m\u001b[37m\u001b[0m \u001b[1m86s\u001b[0m 866ms/step - loss: 2.8322 - masked_acc: 0.4166 - val_loss: 2.9936 - val_masked_acc: 0.3932\n",
            "Epoch 17/100\n",
            "\u001b[1m100/100\u001b[0m \u001b[32m━━━━━━━━━━━━━━━━━━━━\u001b[0m\u001b[37m\u001b[0m \u001b[1m0s\u001b[0m 773ms/step - loss: 2.8248 - masked_acc: 0.4232\n",
            "\n",
            "a surfer in a wetsuit is surfing\n",
            "a person in a blue wetsuit surfs\n",
            "a child with a wave life wetsuit in the foreground\n",
            "\n",
            "\u001b[1m100/100\u001b[0m \u001b[32m━━━━━━━━━━━━━━━━━━━━\u001b[0m\u001b[37m\u001b[0m \u001b[1m84s\u001b[0m 846ms/step - loss: 2.8250 - masked_acc: 0.4232 - val_loss: 2.9711 - val_masked_acc: 0.3954\n",
            "Epoch 18/100\n",
            "\u001b[1m100/100\u001b[0m \u001b[32m━━━━━━━━━━━━━━━━━━━━\u001b[0m\u001b[37m\u001b[0m \u001b[1m0s\u001b[0m 784ms/step - loss: 2.8393 - masked_acc: 0.4162\n",
            "\n",
            "a surfer is surfing a wave\n",
            "a surfer rides a wave\n",
            "a man plays cricket in the ocean\n",
            "\n",
            "\u001b[1m100/100\u001b[0m \u001b[32m━━━━━━━━━━━━━━━━━━━━\u001b[0m\u001b[37m\u001b[0m \u001b[1m85s\u001b[0m 855ms/step - loss: 2.8392 - masked_acc: 0.4162 - val_loss: 2.9723 - val_masked_acc: 0.3943\n",
            "Epoch 19/100\n",
            "\u001b[1m100/100\u001b[0m \u001b[32m━━━━━━━━━━━━━━━━━━━━\u001b[0m\u001b[37m\u001b[0m \u001b[1m0s\u001b[0m 783ms/step - loss: 2.8452 - masked_acc: 0.4226\n",
            "\n",
            "a surfer in a red wetsuit is surfing\n",
            "a surfer in a white wetsuit and yellow shirt is being pulled by the ocean\n",
            "there is a white surfboard\n",
            "\n",
            "\u001b[1m100/100\u001b[0m \u001b[32m━━━━━━━━━━━━━━━━━━━━\u001b[0m\u001b[37m\u001b[0m \u001b[1m85s\u001b[0m 858ms/step - loss: 2.8450 - masked_acc: 0.4226 - val_loss: 2.9339 - val_masked_acc: 0.3940\n",
            "Epoch 20/100\n",
            "\u001b[1m100/100\u001b[0m \u001b[32m━━━━━━━━━━━━━━━━━━━━\u001b[0m\u001b[37m\u001b[0m \u001b[1m0s\u001b[0m 968ms/step - loss: 2.7353 - masked_acc: 0.4288\n",
            "\n",
            "a surfer in a red wetsuit is surfing\n",
            "a man in a red wetsuit is riding a wave\n",
            "a belongings shining in the crashing side and in the the sky from the wave\n",
            "\n",
            "\u001b[1m100/100\u001b[0m \u001b[32m━━━━━━━━━━━━━━━━━━━━\u001b[0m\u001b[37m\u001b[0m \u001b[1m106s\u001b[0m 1s/step - loss: 2.7352 - masked_acc: 0.4289 - val_loss: 2.8523 - val_masked_acc: 0.4158\n",
            "Epoch 21/100\n",
            "\u001b[1m100/100\u001b[0m \u001b[32m━━━━━━━━━━━━━━━━━━━━\u001b[0m\u001b[37m\u001b[0m \u001b[1m0s\u001b[0m 1s/step - loss: 2.7098 - masked_acc: 0.4419\n",
            "\n",
            "a man in a red wetsuit is surfing\n",
            "a person in a red wetsuit riding a wave\n",
            "the man wearing the blue and yellow wetsuit is driving in the crowd of a blue surfboard\n",
            "\n",
            "\u001b[1m100/100\u001b[0m \u001b[32m━━━━━━━━━━━━━━━━━━━━\u001b[0m\u001b[37m\u001b[0m \u001b[1m113s\u001b[0m 1s/step - loss: 2.7095 - masked_acc: 0.4419 - val_loss: 2.9647 - val_masked_acc: 0.3968\n",
            "Epoch 22/100\n",
            "\u001b[1m100/100\u001b[0m \u001b[32m━━━━━━━━━━━━━━━━━━━━\u001b[0m\u001b[37m\u001b[0m \u001b[1m0s\u001b[0m 1s/step - loss: 2.6687 - masked_acc: 0.4385\n",
            "\n",
            "a man in a wetsuit is surfing a wave\n",
            "a man wearing a helmet is surfing in the ocean\n",
            "surfer her riders without a canoe flying with a wave\n",
            "\n",
            "\u001b[1m100/100\u001b[0m \u001b[32m━━━━━━━━━━━━━━━━━━━━\u001b[0m\u001b[37m\u001b[0m \u001b[1m148s\u001b[0m 1s/step - loss: 2.6689 - masked_acc: 0.4384 - val_loss: 2.9078 - val_masked_acc: 0.3975\n",
            "Epoch 23/100\n",
            "\u001b[1m100/100\u001b[0m \u001b[32m━━━━━━━━━━━━━━━━━━━━\u001b[0m\u001b[37m\u001b[0m \u001b[1m0s\u001b[0m 901ms/step - loss: 2.6834 - masked_acc: 0.4454\n",
            "\n",
            "a man in a red wetsuit is surfing\n",
            "a man in a yellow and white shirt is in the surf\n",
            "a man in a red vest is riding a surfboard in a white boat\n",
            "\n",
            "\u001b[1m100/100\u001b[0m \u001b[32m━━━━━━━━━━━━━━━━━━━━\u001b[0m\u001b[37m\u001b[0m \u001b[1m99s\u001b[0m 995ms/step - loss: 2.6832 - masked_acc: 0.4454 - val_loss: 3.0196 - val_masked_acc: 0.3918\n",
            "Epoch 24/100\n",
            "\u001b[1m100/100\u001b[0m \u001b[32m━━━━━━━━━━━━━━━━━━━━\u001b[0m\u001b[37m\u001b[0m \u001b[1m0s\u001b[0m 1s/step - loss: 2.6675 - masked_acc: 0.4384\n",
            "\n",
            "a man in a red and white wetsuit is surfing\n",
            "a boy in a red shirt is surfing\n",
            "a kid dressed in a red and white vest and trunks with a flip in the back\n",
            "\n",
            "\u001b[1m100/100\u001b[0m \u001b[32m━━━━━━━━━━━━━━━━━━━━\u001b[0m\u001b[37m\u001b[0m \u001b[1m140s\u001b[0m 1s/step - loss: 2.6675 - masked_acc: 0.4384 - val_loss: 2.9394 - val_masked_acc: 0.3981\n",
            "Epoch 25/100\n",
            "\u001b[1m100/100\u001b[0m \u001b[32m━━━━━━━━━━━━━━━━━━━━\u001b[0m\u001b[37m\u001b[0m \u001b[1m0s\u001b[0m 940ms/step - loss: 2.6592 - masked_acc: 0.4420\n",
            "\n",
            "a surfer in a red wetsuit is surfing a wave\n",
            "a surfer in a red shirt rides a wave\n",
            "a boy races his eyes\n",
            "\n",
            "\u001b[1m100/100\u001b[0m \u001b[32m━━━━━━━━━━━━━━━━━━━━\u001b[0m\u001b[37m\u001b[0m \u001b[1m103s\u001b[0m 1s/step - loss: 2.6592 - masked_acc: 0.4420 - val_loss: 2.8901 - val_masked_acc: 0.3945\n",
            "Epoch 26/100\n",
            "\u001b[1m100/100\u001b[0m \u001b[32m━━━━━━━━━━━━━━━━━━━━\u001b[0m\u001b[37m\u001b[0m \u001b[1m0s\u001b[0m 985ms/step - loss: 2.6359 - masked_acc: 0.4418\n",
            "\n",
            "a man in a red wetsuit is surfing\n",
            "a person in a blue wetsuit is surfing\n",
            "a woman waves floaties at a blue stage in the ocean\n",
            "\n",
            "\u001b[1m100/100\u001b[0m \u001b[32m━━━━━━━━━━━━━━━━━━━━\u001b[0m\u001b[37m\u001b[0m \u001b[1m109s\u001b[0m 1s/step - loss: 2.6359 - masked_acc: 0.4418 - val_loss: 2.9267 - val_masked_acc: 0.4020\n",
            "Epoch 27/100\n",
            "\u001b[1m100/100\u001b[0m \u001b[32m━━━━━━━━━━━━━━━━━━━━\u001b[0m\u001b[37m\u001b[0m \u001b[1m0s\u001b[0m 827ms/step - loss: 2.6386 - masked_acc: 0.4473\n",
            "\n",
            "a surfer in a red wetsuit is surfing\n",
            "a person is surfing on a wave\n",
            "a yellow surfs on a surfboard in the ocean\n",
            "\n",
            "\u001b[1m100/100\u001b[0m \u001b[32m━━━━━━━━━━━━━━━━━━━━\u001b[0m\u001b[37m\u001b[0m \u001b[1m91s\u001b[0m 906ms/step - loss: 2.6384 - masked_acc: 0.4473 - val_loss: 2.8507 - val_masked_acc: 0.4071\n",
            "Epoch 28/100\n",
            "\u001b[1m100/100\u001b[0m \u001b[32m━━━━━━━━━━━━━━━━━━━━\u001b[0m\u001b[37m\u001b[0m \u001b[1m0s\u001b[0m 911ms/step - loss: 2.6274 - masked_acc: 0.4496\n",
            "\n",
            "a surfer in a red wetsuit is surfing\n",
            "a surfer on a surfboard in the ocean\n",
            "a young woman wearing a red wetsuit rides his hands in the water\n",
            "\n",
            "\u001b[1m100/100\u001b[0m \u001b[32m━━━━━━━━━━━━━━━━━━━━\u001b[0m\u001b[37m\u001b[0m \u001b[1m100s\u001b[0m 1s/step - loss: 2.6273 - masked_acc: 0.4496 - val_loss: 2.8928 - val_masked_acc: 0.4041\n",
            "Epoch 29/100\n",
            "\u001b[1m100/100\u001b[0m \u001b[32m━━━━━━━━━━━━━━━━━━━━\u001b[0m\u001b[37m\u001b[0m \u001b[1m0s\u001b[0m 883ms/step - loss: 2.5267 - masked_acc: 0.4620\n",
            "\n",
            "a man in a red wetsuit is surfing on a wave\n",
            "a surfer in a red wetsuit is riding a wave in the ocean\n",
            "a blue slide in a white pool\n",
            "\n",
            "\u001b[1m100/100\u001b[0m \u001b[32m━━━━━━━━━━━━━━━━━━━━\u001b[0m\u001b[37m\u001b[0m \u001b[1m98s\u001b[0m 976ms/step - loss: 2.5264 - masked_acc: 0.4620 - val_loss: 2.9170 - val_masked_acc: 0.4061\n",
            "Epoch 30/100\n",
            "\u001b[1m100/100\u001b[0m \u001b[32m━━━━━━━━━━━━━━━━━━━━\u001b[0m\u001b[37m\u001b[0m \u001b[1m0s\u001b[0m 914ms/step - loss: 2.4192 - masked_acc: 0.4812\n",
            "\n",
            "a surfer in a red wetsuit is surfing\n",
            "a surfer rides a wave\n",
            "a man surfing in the dog\n",
            "\n",
            "\u001b[1m100/100\u001b[0m \u001b[32m━━━━━━━━━━━━━━━━━━━━\u001b[0m\u001b[37m\u001b[0m \u001b[1m101s\u001b[0m 1s/step - loss: 2.4196 - masked_acc: 0.4811 - val_loss: 2.8315 - val_masked_acc: 0.4114\n",
            "Epoch 31/100\n",
            "\u001b[1m100/100\u001b[0m \u001b[32m━━━━━━━━━━━━━━━━━━━━\u001b[0m\u001b[37m\u001b[0m \u001b[1m0s\u001b[0m 937ms/step - loss: 2.4485 - masked_acc: 0.4644\n",
            "\n",
            "a surfer in a white wetsuit is surfing\n",
            "a surfer in a red wetsuit is riding a wave\n",
            "a man surfing a trick on a board\n",
            "\n",
            "\u001b[1m100/100\u001b[0m \u001b[32m━━━━━━━━━━━━━━━━━━━━\u001b[0m\u001b[37m\u001b[0m \u001b[1m102s\u001b[0m 1s/step - loss: 2.4486 - masked_acc: 0.4645 - val_loss: 2.8855 - val_masked_acc: 0.4024\n",
            "Epoch 32/100\n",
            "\u001b[1m100/100\u001b[0m \u001b[32m━━━━━━━━━━━━━━━━━━━━\u001b[0m\u001b[37m\u001b[0m \u001b[1m0s\u001b[0m 889ms/step - loss: 2.4770 - masked_acc: 0.4726\n",
            "\n",
            "a man in a red wetsuit is surfing\n",
            "a man in a red wetsuit rides his board through the ocean\n",
            "a man wearing a vest and yellow board in the street in a clear flying\n",
            "\n",
            "\u001b[1m100/100\u001b[0m \u001b[32m━━━━━━━━━━━━━━━━━━━━\u001b[0m\u001b[37m\u001b[0m \u001b[1m98s\u001b[0m 981ms/step - loss: 2.4771 - masked_acc: 0.4725 - val_loss: 2.8805 - val_masked_acc: 0.4052\n",
            "Epoch 33/100\n",
            "\u001b[1m100/100\u001b[0m \u001b[32m━━━━━━━━━━━━━━━━━━━━\u001b[0m\u001b[37m\u001b[0m \u001b[1m0s\u001b[0m 884ms/step - loss: 2.4588 - masked_acc: 0.4731\n",
            "\n",
            "a man in a red wetsuit is surfing\n",
            "a person in a red wetsuit rides a wave\n",
            "a boy floating in a wave\n",
            "\n",
            "\u001b[1m100/100\u001b[0m \u001b[32m━━━━━━━━━━━━━━━━━━━━\u001b[0m\u001b[37m\u001b[0m \u001b[1m97s\u001b[0m 973ms/step - loss: 2.4592 - masked_acc: 0.4731 - val_loss: 2.8990 - val_masked_acc: 0.3958\n",
            "Epoch 34/100\n",
            "\u001b[1m100/100\u001b[0m \u001b[32m━━━━━━━━━━━━━━━━━━━━\u001b[0m\u001b[37m\u001b[0m \u001b[1m0s\u001b[0m 9s/step - loss: 2.4984 - masked_acc: 0.4625\n",
            "\n",
            "a surfer in a red wetsuit is surfing on a wave\n",
            "a surfer in a red wetsuit surfs on a wave\n",
            "a boats is in a large wave at the wetsuit of a sandy tower\n",
            "\n",
            "\u001b[1m100/100\u001b[0m \u001b[32m━━━━━━━━━━━━━━━━━━━━\u001b[0m\u001b[37m\u001b[0m \u001b[1m906s\u001b[0m 9s/step - loss: 2.4984 - masked_acc: 0.4625 - val_loss: 2.8529 - val_masked_acc: 0.4013\n",
            "Epoch 35/100\n",
            "\u001b[1m100/100\u001b[0m \u001b[32m━━━━━━━━━━━━━━━━━━━━\u001b[0m\u001b[37m\u001b[0m \u001b[1m0s\u001b[0m 346ms/step - loss: 2.4334 - masked_acc: 0.4761\n",
            "\n",
            "a man in a red shirt and yellow kayak\n",
            "a man is surfing on a wave\n",
            "child riding on a wave\n",
            "\n",
            "\u001b[1m100/100\u001b[0m \u001b[32m━━━━━━━━━━━━━━━━━━━━\u001b[0m\u001b[37m\u001b[0m \u001b[1m39s\u001b[0m 387ms/step - loss: 2.4333 - masked_acc: 0.4761 - val_loss: 2.8412 - val_masked_acc: 0.4106\n",
            "Epoch 36/100\n",
            "\u001b[1m100/100\u001b[0m \u001b[32m━━━━━━━━━━━━━━━━━━━━\u001b[0m\u001b[37m\u001b[0m \u001b[1m0s\u001b[0m 344ms/step - loss: 2.4284 - masked_acc: 0.4737\n",
            "\n",
            "a man in a red shirt is surfing in a wave\n",
            "a person in a red and red shirt is surfing in a wave\n",
            "a man is riding in a kayak\n",
            "\n",
            "\u001b[1m100/100\u001b[0m \u001b[32m━━━━━━━━━━━━━━━━━━━━\u001b[0m\u001b[37m\u001b[0m \u001b[1m38s\u001b[0m 382ms/step - loss: 2.4287 - masked_acc: 0.4737 - val_loss: 2.9424 - val_masked_acc: 0.3885\n",
            "Epoch 37/100\n",
            "\u001b[1m100/100\u001b[0m \u001b[32m━━━━━━━━━━━━━━━━━━━━\u001b[0m\u001b[37m\u001b[0m \u001b[1m0s\u001b[0m 378ms/step - loss: 2.4608 - masked_acc: 0.4657\n",
            "\n",
            "a man in a red wetsuit is surfing on a wave\n",
            "a person in a black wetsuit surfs on a wave\n",
            "a man on a wave with its easel turned to night\n",
            "\n",
            "\u001b[1m100/100\u001b[0m \u001b[32m━━━━━━━━━━━━━━━━━━━━\u001b[0m\u001b[37m\u001b[0m \u001b[1m42s\u001b[0m 420ms/step - loss: 2.4607 - masked_acc: 0.4658 - val_loss: 2.9039 - val_masked_acc: 0.3973\n",
            "Epoch 38/100\n",
            "\u001b[1m100/100\u001b[0m \u001b[32m━━━━━━━━━━━━━━━━━━━━\u001b[0m\u001b[37m\u001b[0m \u001b[1m0s\u001b[0m 343ms/step - loss: 2.4400 - masked_acc: 0.4707\n",
            "\n",
            "a surfer in a red wetsuit is surfing on a wave\n",
            "a man in a red and white wetsuit surfs on a wave\n",
            "an older surfer in a white canoe in a river\n",
            "\n",
            "\u001b[1m100/100\u001b[0m \u001b[32m━━━━━━━━━━━━━━━━━━━━\u001b[0m\u001b[37m\u001b[0m \u001b[1m39s\u001b[0m 384ms/step - loss: 2.4395 - masked_acc: 0.4708 - val_loss: 2.9206 - val_masked_acc: 0.4029\n",
            "Epoch 39/100\n",
            "\u001b[1m100/100\u001b[0m \u001b[32m━━━━━━━━━━━━━━━━━━━━\u001b[0m\u001b[37m\u001b[0m \u001b[1m0s\u001b[0m 372ms/step - loss: 2.2372 - masked_acc: 0.5032\n",
            "\n",
            "a surfer in a red wetsuit is surfing\n",
            "a man in a red wetsuit surfs on a body of water\n",
            "a man surfing with a boogie board in his hair and white\n",
            "\n",
            "\u001b[1m100/100\u001b[0m \u001b[32m━━━━━━━━━━━━━━━━━━━━\u001b[0m\u001b[37m\u001b[0m \u001b[1m41s\u001b[0m 414ms/step - loss: 2.2374 - masked_acc: 0.5032 - val_loss: 2.8682 - val_masked_acc: 0.3957\n",
            "Epoch 40/100\n",
            "\u001b[1m100/100\u001b[0m \u001b[32m━━━━━━━━━━━━━━━━━━━━\u001b[0m\u001b[37m\u001b[0m \u001b[1m0s\u001b[0m 404ms/step - loss: 2.2855 - masked_acc: 0.4977\n",
            "\n",
            "a surfer in a red shirt is surfing on a wave\n",
            "a man in a red shirt is surfing on a wave\n",
            "a person is examining a wave on a wave with two left board\n",
            "\n",
            "\u001b[1m100/100\u001b[0m \u001b[32m━━━━━━━━━━━━━━━━━━━━\u001b[0m\u001b[37m\u001b[0m \u001b[1m46s\u001b[0m 456ms/step - loss: 2.2855 - masked_acc: 0.4977 - val_loss: 2.8823 - val_masked_acc: 0.4023\n"
          ]
        }
      ],
      "source": [
        "history = model.fit(\n",
        "    train_ds.repeat(),\n",
        "    steps_per_epoch=100,\n",
        "    validation_data=test_ds.repeat(),\n",
        "    validation_steps=20,\n",
        "    epochs=100,\n",
        "    callbacks=callbacks)"
      ]
    },
    {
      "cell_type": "markdown",
      "metadata": {
        "id": "P634LfVgw-eV"
      },
      "source": [
        "Plot the loss and accuracy over the training run:"
      ]
    },
    {
      "cell_type": "code",
      "execution_count": 274,
      "metadata": {
        "id": "6Wn8KSkUw916"
      },
      "outputs": [
        {
          "data": {
            "image/png": "[encoded data removed]",
            "text/plain": [
              "<Figure size 640x480 with 1 Axes>"
            ]
          },
          "metadata": {},
          "output_type": "display_data"
        }
      ],
      "source": [
        "plt.plot(history.history['loss'], label='loss')\n",
        "plt.plot(history.history['val_loss'], label='val_loss')\n",
        "plt.ylim([0, max(plt.ylim())])\n",
        "plt.xlabel('Epoch #')\n",
        "plt.ylabel('CE/token')\n",
        "plt.legend()\n",
        "\n",
        "plt.savefig(\"loss.pdf\", bbox_inches='tight')"
      ]
    },
    {
      "cell_type": "code",
      "execution_count": 275,
      "metadata": {
        "id": "yZQ78b2Kxw-T"
      },
      "outputs": [
        {
          "data": {
            "image/png": "[encoded data removed]",
            "text/plain": [
              "<Figure size 640x480 with 1 Axes>"
            ]
          },
          "metadata": {},
          "output_type": "display_data"
        }
      ],
      "source": [
        "plt.plot(history.history['masked_acc'], label='accuracy')\n",
        "plt.plot(history.history['val_masked_acc'], label='val_accuracy')\n",
        "plt.ylim([0, max(plt.ylim())])\n",
        "plt.xlabel('Epoch #')\n",
        "plt.ylabel('CE/token')\n",
        "plt.legend()\n",
        "\n",
        "plt.savefig(\"acc.pdf\", bbox_inches='tight')"
      ]
    },
    {
      "cell_type": "markdown",
      "metadata": {},
      "source": [
        "### Evaluation"
      ]
    },
    {
      "cell_type": "code",
      "execution_count": 276,
      "metadata": {},
      "outputs": [],
      "source": [
        "import os\n",
        "import zipfile\n",
        "import urllib.request\n",
        "import json\n",
        "import numpy as np\n",
        "import pandas as pd\n",
        "from PIL import Image\n",
        "import spacy\n",
        "nlp = spacy.load(\"en_core_web_sm\")\n",
        "\n",
        "import tensorflow as tf\n",
        "from nltk.translate.bleu_score import sentence_bleu, SmoothingFunction\n",
        "# from rouge_score import rouge_scorer\n",
        "from rouge_score.rouge_scorer import RougeScorer\n",
        "from bert_score import score as bert_score"
      ]
    },
    {
      "cell_type": "code",
      "execution_count": null,
      "metadata": {},
      "outputs": [],
      "source": [
        "## Downloading dataset for evaluation\n",
        "\n",
        "def download_file(url, save_path):\n",
        "    if not os.path.exists(save_path):\n",
        "        print(f\"Downloading: {url}\")\n",
        "        urllib.request.urlretrieve(url, save_path)\n",
        "        print(f\"Saved to: {save_path}\")\n",
        "    else:\n",
        "        print(f\"Already downloaded: {save_path}\")\n",
        "\n",
        "# === Create download directory\n",
        "os.makedirs(\"downloads\", exist_ok=True)\n",
        "\n",
        "# === Download URLs\n",
        "downloads = {\n",
        "    \"val2014.zip\": \"http://images.cocodataset.org/zips/val2014.zip\",\n",
        "    \"annotations_trainval2014.zip\": \"http://images.cocodataset.org/annotations/annotations_trainval2014.zip\",\n",
        "    \"v2_Questions_Val_mscoco.zip\": \"https://s3.amazonaws.com/cvmlp/vqa/mscoco/vqa/v2_Questions_Val_mscoco.zip\",\n",
        "    \"v2_Annotations_Val_mscoco.zip\": \"https://s3.amazonaws.com/cvmlp/vqa/mscoco/vqa/v2_Annotations_Val_mscoco.zip\",\n",
        "}\n",
        "\n",
        "# === Download files\n",
        "for filename, url in downloads.items():\n",
        "    download_file(url, f\"downloads/{filename}\")\n",
        "\n",
        "# === Unzip files\n",
        "unzip_targets = {\n",
        "    \"downloads/val2014.zip\": \"val2014\",\n",
        "    \"downloads/annotations_trainval2014.zip\": \"annotations\",\n",
        "    \"downloads/v2_Questions_Val_mscoco.zip\": \"vqa_questions\",\n",
        "    \"downloads/v2_Annotations_Val_mscoco.zip\": \"vqa_annotations\",\n",
        "}\n",
        "\n",
        "for zip_path, extract_to in unzip_targets.items():\n",
        "    if not os.path.exists(extract_to):\n",
        "        print(f\"Unzipping {zip_path} to {extract_to}...\")\n",
        "        with zipfile.ZipFile(zip_path, 'r') as zip_ref:\n",
        "            zip_ref.extractall(extract_to)\n",
        "        print(f\"Extracted to {extract_to}/\")\n",
        "    else:\n",
        "        print(f\"Already extracted: {extract_to}/\")"
      ]
    },
    {
      "cell_type": "code",
      "execution_count": 277,
      "metadata": {},
      "outputs": [],
      "source": [
        "from transformers import AutoTokenizer, AutoModelForSeq2SeqLM\n",
        "flan_model = AutoModelForSeq2SeqLM.from_pretrained(\"google/flan-t5-base\")\n",
        "flan_tokenizer = AutoTokenizer.from_pretrained(\"google/flan-t5-base\")"
      ]
    },
    {
      "cell_type": "code",
      "execution_count": 278,
      "metadata": {},
      "outputs": [],
      "source": [
        "COCO_PATH = \"val2014\"\n",
        "N = 500  # Change to None for full run\n",
        "IMAGE_SIZE = (224, 224)"
      ]
    },
    {
      "cell_type": "code",
      "execution_count": 279,
      "metadata": {},
      "outputs": [],
      "source": [
        "# Load VQA questions + answers\n",
        "with open(\"vqa_questions/v2_OpenEnded_mscoco_val2014_questions.json\") as f:\n",
        "    questions = json.load(f)[\"questions\"]\n",
        "\n",
        "with open(\"vqa_annotations/v2_mscoco_val2014_annotations.json\") as f:\n",
        "    annotations = json.load(f)[\"annotations\"]\n",
        "\n",
        "answers_map = {ann[\"question_id\"]: ann[\"answers\"] for ann in annotations}\n",
        "vqa = []\n",
        "for q in questions:\n",
        "    if q[\"question_id\"] in answers_map:\n",
        "        vqa.append({\n",
        "            \"image_id\": q[\"image_id\"],\n",
        "            \"question\": q[\"question\"],\n",
        "            \"answers\": answers_map[q[\"question_id\"]]\n",
        "        })"
      ]
    },
    {
      "cell_type": "code",
      "execution_count": 280,
      "metadata": {},
      "outputs": [],
      "source": [
        "rouge = RougeScorer([\"rougeL\"], use_stemmer=True)\n",
        "smoother = SmoothingFunction().method1"
      ]
    },
    {
      "cell_type": "code",
      "execution_count": 281,
      "metadata": {},
      "outputs": [],
      "source": [
        "bleu_vals, rouge_vals = [], []\n",
        "bert_preds = []\n",
        "bert_refs = []\n",
        "output_log = []"
      ]
    },
    {
      "cell_type": "code",
      "execution_count": 282,
      "metadata": {},
      "outputs": [],
      "source": [
        "def rearrange_question(question):\n",
        "    doc = nlp(question)\n",
        "\n",
        "    rearranged = []\n",
        "    root = None\n",
        "    root_pos = -1\n",
        "    count = 0\n",
        "    root_added = False\n",
        "    for token in doc:\n",
        "\n",
        "        # print(token.text, token.pos_)\n",
        "\n",
        "        if root_pos==-1 and token.pos_ == 'AUX':\n",
        "            if count == 0:\n",
        "                return[]\n",
        "            root = token\n",
        "            root_pos = count\n",
        "\n",
        "        elif root_pos!=-1 and token.pos_ != 'PUNCT':\n",
        "\n",
        "            if token.pos_ == 'VERB':\n",
        "                root_added = True\n",
        "                rearranged.append(root)\n",
        "            rearranged.append(token)\n",
        "\n",
        "        count += 1\n",
        "\n",
        "    if not root_added and root:\n",
        "        rearranged.append(root)\n",
        "\n",
        "    # if rearranged[-1].pos_ == 'VERB':\n",
        "    #     rearranged.insert(len(rearranged)-1, root)\n",
        "    # else:\n",
        "    #     rearranged.insert(len(rearranged), root)\n",
        "        \n",
        "    rearranged_str = [text.text.lower() for text in rearranged]\n",
        "\n",
        "    if root_pos == 2:\n",
        "        rearranged_str.insert(0, doc[1].text)\n",
        "        rearranged_str.insert(1, \"of\")\n",
        "\n",
        "    if doc[0].text == 'Why':\n",
        "        rearranged_str.append('because')\n",
        "    return rearranged_str\n",
        "\n"
      ]
    },
    {
      "cell_type": "code",
      "execution_count": 283,
      "metadata": {},
      "outputs": [],
      "source": [
        "def load_and_preprocess(img_path):\n",
        "    img = Image.open(img_path).convert(\"RGB\").resize(IMAGE_SIZE)\n",
        "    arr = np.asarray(img).astype(\"float32\")\n",
        "    return arr\n",
        "\n",
        "def answer_question_from_captions(captions, question):\n",
        "    prompt = f\"Given the following descriptions:\\n{' '.join(captions)}\\nAnswer the question: {question}. Donot hallucinate. Provide short answer.\"\n",
        "    inputs = flan_tokenizer(prompt, return_tensors=\"pt\", truncation=True)\n",
        "    outputs = flan_model.generate(**inputs, max_length=40)\n",
        "    return flan_tokenizer.decode(outputs[0], skip_special_tokens=True)"
      ]
    },
    {
      "cell_type": "code",
      "execution_count": 263,
      "metadata": {},
      "outputs": [
        {
          "name": "stderr",
          "output_type": "stream",
          "text": [
            "huggingface/tokenizers: The current process just got forked, after parallelism has already been used. Disabling parallelism to avoid deadlocks...\n",
            "To disable this warning, you can either:\n",
            "\t- Avoid using `tokenizers` before the fork if possible\n",
            "\t- Explicitly set the environment variable TOKENIZERS_PARALLELISM=(true | false)\n",
            "huggingface/tokenizers: The current process just got forked, after parallelism has already been used. Disabling parallelism to avoid deadlocks...\n",
            "To disable this warning, you can either:\n",
            "\t- Avoid using `tokenizers` before the fork if possible\n",
            "\t- Explicitly set the environment variable TOKENIZERS_PARALLELISM=(true | false)\n"
          ]
        },
        {
          "data": {
            "text/plain": [
              "TensorShape([224, 224, 3])"
            ]
          },
          "execution_count": 263,
          "metadata": {},
          "output_type": "execute_result"
        }
      ],
      "source": [
        "img_path = os.path.join(COCO_PATH, f\"COCO_val2014_{vqa[480]['image_id']:012d}.jpg\")\n",
        "image = load_image(img_path)\n",
        "\n",
        "im=Image.open(img_path)\n",
        "im.show()\n",
        "image.shape"
      ]
    },
    {
      "cell_type": "code",
      "execution_count": 264,
      "metadata": {},
      "outputs": [
        {
          "name": "stderr",
          "output_type": "stream",
          "text": [
            "/Users/HP/Documents/Documents - Mac/CS 6384 Computer Vision/project-cv/llm-based-VQA-system/.venv/lib/python3.11/site-packages/keras/src/ops/nn.py:908: UserWarning: You are using a softmax over axis 3 of a tensor of shape (1, 2, 1, 1). This axis has size 1. The softmax operation will always return the value 1, which is likely not what you intended. Did you mean to use a sigmoid instead?\n",
            "  warnings.warn(\n",
            "/Users/HP/Documents/Documents - Mac/CS 6384 Computer Vision/project-cv/llm-based-VQA-system/.venv/lib/python3.11/site-packages/keras/src/layers/layer.py:940: UserWarning: Layer 'causal_self_attention_2' (of type CausalSelfAttention) was passed an input with a mask attached to it. However, this layer does not support masking and will therefore destroy the mask information. Downstream layers will not see the mask.\n",
            "  warnings.warn(\n",
            "/Users/HP/Documents/Documents - Mac/CS 6384 Computer Vision/project-cv/llm-based-VQA-system/.venv/lib/python3.11/site-packages/keras/src/layers/layer.py:940: UserWarning: Layer 'decoder_layer_2' (of type DecoderLayer) was passed an input with a mask attached to it. However, this layer does not support masking and will therefore destroy the mask information. Downstream layers will not see the mask.\n",
            "  warnings.warn(\n"
          ]
        },
        {
          "data": {
            "text/plain": [
              "'a white and white dog is in the air'"
            ]
          },
          "execution_count": 264,
          "metadata": {},
          "output_type": "execute_result"
        }
      ],
      "source": [
        "model.simple_gen(image, temperature=0.0, initial_keywords=[])"
      ]
    },
    {
      "cell_type": "code",
      "execution_count": 284,
      "metadata": {},
      "outputs": [
        {
          "name": "stdout",
          "output_type": "stream",
          "text": [
            "Evaluating 500 examples...\n",
            "\n"
          ]
        },
        {
          "name": "stderr",
          "output_type": "stream",
          "text": [
            "  0%|          | 0/500 [00:00<?, ?it/s]/Users/HP/Documents/Documents - Mac/CS 6384 Computer Vision/project-cv/llm-based-VQA-system/.venv/lib/python3.11/site-packages/keras/src/layers/layer.py:940: UserWarning: Layer 'causal_self_attention_7' (of type CausalSelfAttention) was passed an input with a mask attached to it. However, this layer does not support masking and will therefore destroy the mask information. Downstream layers will not see the mask.\n",
            "  warnings.warn(\n",
            "/Users/HP/Documents/Documents - Mac/CS 6384 Computer Vision/project-cv/llm-based-VQA-system/.venv/lib/python3.11/site-packages/keras/src/layers/layer.py:940: UserWarning: Layer 'decoder_layer_7' (of type DecoderLayer) was passed an input with a mask attached to it. However, this layer does not support masking and will therefore destroy the mask information. Downstream layers will not see the mask.\n",
            "  warnings.warn(\n",
            "  0%|          | 1/500 [00:10<1:27:29, 10.52s/it]"
          ]
        },
        {
          "name": "stdout",
          "output_type": "stream",
          "text": [
            "0\n",
            "\n",
            "Q: Where is he looking?\n",
            "Keywords: ['he', 'is', 'looking']\n",
            "Caption: he is looking at a man in a black shirt\n",
            "Prediction: at a man in a black shirt\n",
            "GT: down\n",
            "\n"
          ]
        },
        {
          "name": "stderr",
          "output_type": "stream",
          "text": [
            "  1%|          | 3/500 [00:11<21:59,  2.66s/it]  /Users/HP/Documents/Documents - Mac/CS 6384 Computer Vision/project-cv/llm-based-VQA-system/.venv/lib/python3.11/site-packages/keras/src/ops/nn.py:908: UserWarning: You are using a softmax over axis 3 of a tensor of shape (1, 4, 1, 1). This axis has size 1. The softmax operation will always return the value 1, which is likely not what you intended. Did you mean to use a sigmoid instead?\n",
            "  warnings.warn(\n",
            "  2%|▏         | 11/500 [00:14<03:49,  2.13it/s]"
          ]
        },
        {
          "name": "stdout",
          "output_type": "stream",
          "text": [
            "10\n",
            "\n",
            "Q: Why is there a gap between the roof and wall?\n",
            "Keywords: ['there', 'a', 'gap', 'between', 'the', 'roof', 'and', 'wall', 'is', 'because']\n",
            "Caption: there a gap between the roof and wall is because\n",
            "Prediction: Do not hallucinate\n",
            "GT: ventilation\n",
            "\n"
          ]
        },
        {
          "name": "stderr",
          "output_type": "stream",
          "text": [
            "  4%|▍         | 21/500 [00:19<03:38,  2.19it/s]"
          ]
        },
        {
          "name": "stdout",
          "output_type": "stream",
          "text": [
            "20\n",
            "\n",
            "Q: What color is the bedspread?\n",
            "Keywords: ['color', 'of', 'the', 'bedspread', 'is']\n",
            "Caption: color of the bedspread is laying on a bed\n",
            "Prediction: hallucinate\n",
            "GT: beige\n",
            "\n"
          ]
        },
        {
          "name": "stderr",
          "output_type": "stream",
          "text": [
            "  6%|▌         | 31/500 [00:23<03:16,  2.39it/s]"
          ]
        },
        {
          "name": "stdout",
          "output_type": "stream",
          "text": [
            "30\n",
            "\n",
            "Q: Is the bed white?\n",
            "Keywords: []\n",
            "Caption: a man is sitting on a bed with a large blue blanket\n",
            "Prediction: no\n",
            "GT: yes\n",
            "\n"
          ]
        },
        {
          "name": "stderr",
          "output_type": "stream",
          "text": [
            "  8%|▊         | 41/500 [00:28<03:35,  2.13it/s]"
          ]
        },
        {
          "name": "stdout",
          "output_type": "stream",
          "text": [
            "40\n",
            "\n",
            "Q: How many frames are on the wall?\n",
            "Keywords: ['on', 'the', 'wall', 'are']\n",
            "Caption: on the wall are sitting on a bed\n",
            "Prediction: two\n",
            "GT: 7\n",
            "\n"
          ]
        },
        {
          "name": "stderr",
          "output_type": "stream",
          "text": [
            " 10%|█         | 51/500 [00:32<03:27,  2.17it/s]"
          ]
        },
        {
          "name": "stdout",
          "output_type": "stream",
          "text": [
            "50\n",
            "\n",
            "Q: Is this person wearing a tie?\n",
            "Keywords: []\n",
            "Caption: a young boy is eating a small child with a red shirt\n",
            "Prediction: Yes\n",
            "GT: no\n",
            "\n"
          ]
        },
        {
          "name": "stderr",
          "output_type": "stream",
          "text": [
            " 12%|█▏        | 61/500 [00:37<03:20,  2.19it/s]"
          ]
        },
        {
          "name": "stdout",
          "output_type": "stream",
          "text": [
            "60\n",
            "\n",
            "Q: What kind of vehicle is the RV pulling on the bottom picture?\n",
            "Keywords: ['the', 'rv', 'is', 'pulling', 'on', 'the', 'bottom', 'picture']\n",
            "Caption: the rv is pulling on the bottom picture of a car\n",
            "Prediction: car\n",
            "GT: jeep\n",
            "\n"
          ]
        },
        {
          "name": "stderr",
          "output_type": "stream",
          "text": [
            " 14%|█▍        | 71/500 [00:42<03:23,  2.11it/s]"
          ]
        },
        {
          "name": "stdout",
          "output_type": "stream",
          "text": [
            "70\n",
            "\n",
            "Q: What does the last sign say?\n",
            "Keywords: ['the', 'last', 'sign', 'does', 'say']\n",
            "Caption: the last sign does say on the train\n",
            "Prediction: Do not hallucinate\n",
            "GT: ross st\n",
            "\n"
          ]
        },
        {
          "name": "stderr",
          "output_type": "stream",
          "text": [
            " 16%|█▌        | 81/500 [00:46<03:09,  2.22it/s]"
          ]
        },
        {
          "name": "stdout",
          "output_type": "stream",
          "text": [
            "80\n",
            "\n",
            "Q: Is there a tree in front of the building?\n",
            "Keywords: []\n",
            "Caption: a man is standing on a street with a large building in the background\n",
            "Prediction: Yes\n",
            "GT: yes\n",
            "\n"
          ]
        },
        {
          "name": "stderr",
          "output_type": "stream",
          "text": [
            " 18%|█▊        | 91/500 [00:51<03:14,  2.10it/s]"
          ]
        },
        {
          "name": "stdout",
          "output_type": "stream",
          "text": [
            "90\n",
            "\n",
            "Q: Is it still snowing in the picture?\n",
            "Keywords: []\n",
            "Caption: a man is walking through the snow\n",
            "Prediction: no\n",
            "GT: yes\n",
            "\n"
          ]
        },
        {
          "name": "stderr",
          "output_type": "stream",
          "text": [
            " 20%|██        | 101/500 [01:03<03:33,  1.87it/s]"
          ]
        },
        {
          "name": "stdout",
          "output_type": "stream",
          "text": [
            "100\n",
            "\n",
            "Q: What is the background metal structure?\n",
            "Keywords: ['the', 'background', 'metal', 'structure', 'is']\n",
            "Caption: the background metal structure is walking down the road\n",
            "Prediction: a human\n",
            "GT: trees\n",
            "\n"
          ]
        },
        {
          "name": "stderr",
          "output_type": "stream",
          "text": [
            " 22%|██▏       | 111/500 [01:08<03:01,  2.14it/s]"
          ]
        },
        {
          "name": "stdout",
          "output_type": "stream",
          "text": [
            "110\n",
            "\n",
            "Q: What year is the car?\n",
            "Keywords: ['year', 'of', 'the', 'car', 'is']\n",
            "Caption: year of the car is standing on the street\n",
            "Prediction: a year\n",
            "GT: 2014\n",
            "\n"
          ]
        },
        {
          "name": "stderr",
          "output_type": "stream",
          "text": [
            " 24%|██▍       | 121/500 [01:13<04:14,  1.49it/s]"
          ]
        },
        {
          "name": "stdout",
          "output_type": "stream",
          "text": [
            "120\n",
            "\n",
            "Q: Is that a cake?\n",
            "Keywords: []\n",
            "Caption: a man in a red shirt and a black shirt is standing on a city street\n",
            "Prediction: No\n",
            "GT: no\n",
            "\n"
          ]
        },
        {
          "name": "stderr",
          "output_type": "stream",
          "text": [
            " 26%|██▌       | 131/500 [01:19<03:32,  1.74it/s]"
          ]
        },
        {
          "name": "stdout",
          "output_type": "stream",
          "text": [
            "130\n",
            "\n",
            "Q: Will these giraffes be eating the grass for dinner?\n",
            "Keywords: []\n",
            "Caption: a man in a brown shirt is riding a bike on a sandy beach\n",
            "Prediction: No\n",
            "GT: yes\n",
            "\n"
          ]
        },
        {
          "name": "stderr",
          "output_type": "stream",
          "text": [
            " 28%|██▊       | 141/500 [01:24<02:23,  2.50it/s]"
          ]
        },
        {
          "name": "stdout",
          "output_type": "stream",
          "text": [
            "140\n",
            "\n",
            "Q: Is this man snowboarding?\n",
            "Keywords: []\n",
            "Caption: a snowboarder in the air\n",
            "Prediction: Yes\n",
            "GT: yes\n",
            "\n"
          ]
        },
        {
          "name": "stderr",
          "output_type": "stream",
          "text": [
            " 30%|███       | 151/500 [01:27<02:03,  2.82it/s]"
          ]
        },
        {
          "name": "stdout",
          "output_type": "stream",
          "text": [
            "150\n",
            "\n",
            "Q: Does the man have goggles on?\n",
            "Keywords: []\n",
            "Caption: a snowboarder in the air\n",
            "Prediction: Yes\n",
            "GT: yes\n",
            "\n"
          ]
        },
        {
          "name": "stderr",
          "output_type": "stream",
          "text": [
            " 32%|███▏      | 161/500 [01:31<02:17,  2.46it/s]"
          ]
        },
        {
          "name": "stdout",
          "output_type": "stream",
          "text": [
            "160\n",
            "\n",
            "Q: Does this dog have a collar?\n",
            "Keywords: []\n",
            "Caption: a young boy is playing with a dog on a leash\n",
            "Prediction: Yes\n",
            "GT: yes\n",
            "\n"
          ]
        },
        {
          "name": "stderr",
          "output_type": "stream",
          "text": [
            " 34%|███▍      | 171/500 [01:36<02:38,  2.08it/s]"
          ]
        },
        {
          "name": "stdout",
          "output_type": "stream",
          "text": [
            "170\n",
            "\n",
            "Q: What color is the ribbon?\n",
            "Keywords: ['color', 'of', 'the', 'ribbon', 'is']\n",
            "Caption: color of the ribbon is sitting in a window\n",
            "Prediction: color\n",
            "GT: green\n",
            "\n"
          ]
        },
        {
          "name": "stderr",
          "output_type": "stream",
          "text": [
            " 36%|███▌      | 181/500 [01:46<02:46,  1.91it/s]"
          ]
        },
        {
          "name": "stdout",
          "output_type": "stream",
          "text": [
            "180\n",
            "\n",
            "Q: How many babies are there?\n",
            "Keywords: ['there', 'are']\n",
            "Caption: there are two men and a woman are playing soccer\n",
            "Prediction: two\n",
            "GT: 0\n",
            "\n"
          ]
        },
        {
          "name": "stderr",
          "output_type": "stream",
          "text": [
            " 38%|███▊      | 191/500 [01:50<02:05,  2.46it/s]"
          ]
        },
        {
          "name": "stdout",
          "output_type": "stream",
          "text": [
            "190\n",
            "\n",
            "Q: What does the woman have around her neck?\n",
            "Keywords: ['the', 'woman', 'does', 'have', 'around', 'her', 'neck']\n",
            "Caption: the woman does have around her neck\n",
            "Prediction: a ring\n",
            "GT: necklace\n",
            "\n"
          ]
        },
        {
          "name": "stderr",
          "output_type": "stream",
          "text": [
            " 40%|████      | 201/500 [01:55<02:06,  2.37it/s]"
          ]
        },
        {
          "name": "stdout",
          "output_type": "stream",
          "text": [
            "200\n",
            "\n",
            "Q: What color is the court?\n",
            "Keywords: ['color', 'of', 'the', 'court', 'is']\n",
            "Caption: color of the court is running on the court\n",
            "Prediction: hallucinate\n",
            "GT: green\n",
            "\n"
          ]
        },
        {
          "name": "stderr",
          "output_type": "stream",
          "text": [
            " 42%|████▏     | 211/500 [01:59<02:15,  2.13it/s]"
          ]
        },
        {
          "name": "stdout",
          "output_type": "stream",
          "text": [
            "210\n",
            "\n",
            "Q: Is the silver bike new?\n",
            "Keywords: []\n",
            "Caption: a man in a red helmet is riding a motorcycle on a dirt bike\n",
            "Prediction: No\n",
            "GT: no\n",
            "\n"
          ]
        },
        {
          "name": "stderr",
          "output_type": "stream",
          "text": [
            " 44%|████▍     | 221/500 [02:04<02:06,  2.20it/s]"
          ]
        },
        {
          "name": "stdout",
          "output_type": "stream",
          "text": [
            "220\n",
            "\n",
            "Q: What color is the bike?\n",
            "Keywords: ['color', 'of', 'the', 'bike', 'is']\n",
            "Caption: color of the bike is driving a green motorcycle\n",
            "Prediction: green\n",
            "GT: white and green\n",
            "\n"
          ]
        },
        {
          "name": "stderr",
          "output_type": "stream",
          "text": [
            " 46%|████▌     | 231/500 [02:08<02:08,  2.10it/s]"
          ]
        },
        {
          "name": "stdout",
          "output_type": "stream",
          "text": [
            "230\n",
            "\n",
            "Q: What color is the fridge?\n",
            "Keywords: ['color', 'of', 'the', 'fridge', 'is']\n",
            "Caption: color of the [UNK] is looking at the window\n",
            "Prediction: unanswerable\n",
            "GT: gray or silver\n",
            "\n"
          ]
        },
        {
          "name": "stderr",
          "output_type": "stream",
          "text": [
            " 48%|████▊     | 241/500 [02:14<02:39,  1.63it/s]"
          ]
        },
        {
          "name": "stdout",
          "output_type": "stream",
          "text": [
            "240\n",
            "\n",
            "Q: What is written on the surfboard?\n",
            "Keywords: ['is', 'written', 'on', 'the', 'surfboard']\n",
            "Caption: is written on the surfboard on top of a snowy mountain\n",
            "Prediction: Do not hallucinate\n",
            "GT: lifeguard\n",
            "\n"
          ]
        },
        {
          "name": "stderr",
          "output_type": "stream",
          "text": [
            " 50%|█████     | 251/500 [02:19<02:09,  1.92it/s]"
          ]
        },
        {
          "name": "stdout",
          "output_type": "stream",
          "text": [
            "250\n",
            "\n",
            "Q: Is this an English saddle?\n",
            "Keywords: []\n",
            "Caption: a woman in a pink shirt is holding a guitar\n",
            "Prediction: no\n",
            "GT: yes\n",
            "\n"
          ]
        },
        {
          "name": "stderr",
          "output_type": "stream",
          "text": [
            " 52%|█████▏    | 261/500 [02:24<01:35,  2.50it/s]"
          ]
        },
        {
          "name": "stdout",
          "output_type": "stream",
          "text": [
            "260\n",
            "\n",
            "Q: What kind of birds are these?\n",
            "Keywords: ['these', 'are']\n",
            "Caption: these are flying over the beach\n",
            "Prediction: birds\n",
            "GT: herons\n",
            "\n"
          ]
        },
        {
          "name": "stderr",
          "output_type": "stream",
          "text": [
            " 54%|█████▍    | 271/500 [02:28<01:50,  2.07it/s]"
          ]
        },
        {
          "name": "stdout",
          "output_type": "stream",
          "text": [
            "270\n",
            "\n",
            "Q: How many sets of doors are open?\n",
            "Keywords: ['open', 'are']\n",
            "Caption: open are standing on a train\n",
            "Prediction: two sets\n",
            "GT: 1\n",
            "\n"
          ]
        },
        {
          "name": "stderr",
          "output_type": "stream",
          "text": [
            " 56%|█████▌    | 281/500 [02:35<03:00,  1.21it/s]"
          ]
        },
        {
          "name": "stdout",
          "output_type": "stream",
          "text": [
            "280\n",
            "\n",
            "Q: Is there a woman sitting on this bench??\n",
            "Keywords: []\n",
            "Caption: a woman in a black shirt and a woman in a black shirt and a black shirt and a woman are walking on the sidewalk\n",
            "Prediction: no\n",
            "GT: yes\n",
            "\n"
          ]
        },
        {
          "name": "stderr",
          "output_type": "stream",
          "text": [
            " 58%|█████▊    | 291/500 [02:46<03:15,  1.07it/s]"
          ]
        },
        {
          "name": "stdout",
          "output_type": "stream",
          "text": [
            "290\n",
            "\n",
            "Q: Is the girl smiling?\n",
            "Keywords: []\n",
            "Caption: a man in a black hat and a woman in a black shirt and a black hat\n",
            "Prediction: No\n",
            "GT: no\n",
            "\n"
          ]
        },
        {
          "name": "stderr",
          "output_type": "stream",
          "text": [
            " 60%|██████    | 301/500 [02:55<02:59,  1.11it/s]"
          ]
        },
        {
          "name": "stdout",
          "output_type": "stream",
          "text": [
            "300\n",
            "\n",
            "Q: What about this man's appearance might bother a conservative employer?\n",
            "Keywords: ['might', 'bother', 'a', 'conservative', 'employer']\n",
            "Caption: [UNK] [UNK] a [UNK] [UNK]\n",
            "Prediction: a\n",
            "GT: yes\n",
            "\n"
          ]
        },
        {
          "name": "stderr",
          "output_type": "stream",
          "text": [
            " 62%|██████▏   | 311/500 [03:08<03:19,  1.06s/it]"
          ]
        },
        {
          "name": "stdout",
          "output_type": "stream",
          "text": [
            "310\n",
            "\n",
            "Q: Where are the ducks?\n",
            "Keywords: ['the', 'ducks', 'are']\n",
            "Caption: the ducks are walking down the street\n",
            "Prediction: street\n",
            "GT: can't see\n",
            "\n"
          ]
        },
        {
          "name": "stderr",
          "output_type": "stream",
          "text": [
            " 64%|██████▍   | 321/500 [03:17<02:41,  1.11it/s]"
          ]
        },
        {
          "name": "stdout",
          "output_type": "stream",
          "text": [
            "320\n",
            "\n",
            "Q: Is this a tour bus?\n",
            "Keywords: []\n",
            "Caption: a man is riding a skateboard on a street\n",
            "Prediction: No\n",
            "GT: yes\n",
            "\n"
          ]
        },
        {
          "name": "stderr",
          "output_type": "stream",
          "text": [
            " 66%|██████▌   | 331/500 [03:26<02:24,  1.17it/s]"
          ]
        },
        {
          "name": "stdout",
          "output_type": "stream",
          "text": [
            "330\n",
            "\n",
            "Q: What color is the camper?\n",
            "Keywords: ['color', 'of', 'the', 'camper', 'is']\n",
            "Caption: color of the camper is walking down the street\n",
            "Prediction: hallucinate\n",
            "GT: white\n",
            "\n"
          ]
        },
        {
          "name": "stderr",
          "output_type": "stream",
          "text": [
            " 68%|██████▊   | 341/500 [03:35<02:11,  1.21it/s]"
          ]
        },
        {
          "name": "stdout",
          "output_type": "stream",
          "text": [
            "340\n",
            "\n",
            "Q: Is the person on the laptop married?\n",
            "Keywords: []\n",
            "Caption: a man is sitting on a table with his hand\n",
            "Prediction: no\n",
            "GT: yes\n",
            "\n"
          ]
        },
        {
          "name": "stderr",
          "output_type": "stream",
          "text": [
            " 70%|███████   | 351/500 [03:43<01:44,  1.43it/s]"
          ]
        },
        {
          "name": "stdout",
          "output_type": "stream",
          "text": [
            "350\n",
            "\n",
            "Q: Is the giraffes head small?\n",
            "Keywords: []\n",
            "Caption: a dog is jumping over a wooden fence\n",
            "Prediction: no\n",
            "GT: yes\n",
            "\n"
          ]
        },
        {
          "name": "stderr",
          "output_type": "stream",
          "text": [
            " 72%|███████▏  | 361/500 [03:51<01:45,  1.32it/s]"
          ]
        },
        {
          "name": "stdout",
          "output_type": "stream",
          "text": [
            "360\n",
            "\n",
            "Q: Is the catcher wearing safety gear?\n",
            "Keywords: []\n",
            "Caption: a boy in a blue shirt is running on a field\n",
            "Prediction: No\n",
            "GT: yes\n",
            "\n"
          ]
        },
        {
          "name": "stderr",
          "output_type": "stream",
          "text": [
            " 74%|███████▍  | 371/500 [03:56<01:05,  1.96it/s]"
          ]
        },
        {
          "name": "stdout",
          "output_type": "stream",
          "text": [
            "370\n",
            "\n",
            "Q: What is the color of the sky?\n",
            "Keywords: ['the', 'color', 'of', 'the', 'sky', 'is']\n",
            "Caption: the color of the sky is flying through the air\n",
            "Prediction: hallucinate\n",
            "GT: blue\n",
            "\n"
          ]
        },
        {
          "name": "stderr",
          "output_type": "stream",
          "text": [
            " 76%|███████▌  | 381/500 [04:04<01:34,  1.26it/s]"
          ]
        },
        {
          "name": "stdout",
          "output_type": "stream",
          "text": [
            "380\n",
            "\n",
            "Q: Is this going to be a feast?\n",
            "Keywords: []\n",
            "Caption: a woman is sitting in a chair with a baby in a chair\n",
            "Prediction: No\n",
            "GT: yes\n",
            "\n"
          ]
        },
        {
          "name": "stderr",
          "output_type": "stream",
          "text": [
            " 78%|███████▊  | 391/500 [04:10<01:01,  1.77it/s]"
          ]
        },
        {
          "name": "stdout",
          "output_type": "stream",
          "text": [
            "390\n",
            "\n",
            "Q: What type of food is being sold?\n",
            "Keywords: ['being', 'is', 'sold']\n",
            "Caption: being is [UNK] of people in a restaurant\n",
            "Prediction: food\n",
            "GT: pastries\n",
            "\n"
          ]
        },
        {
          "name": "stderr",
          "output_type": "stream",
          "text": [
            " 80%|████████  | 401/500 [04:17<00:54,  1.83it/s]"
          ]
        },
        {
          "name": "stdout",
          "output_type": "stream",
          "text": [
            "400\n",
            "\n",
            "Q: What is the large figure?\n",
            "Keywords: ['the', 'large', 'figure', 'is']\n",
            "Caption: the large figure is walking on the beach\n",
            "Prediction: a human\n",
            "GT: two giraffe\n",
            "\n"
          ]
        },
        {
          "name": "stderr",
          "output_type": "stream",
          "text": [
            " 82%|████████▏ | 411/500 [04:23<00:50,  1.76it/s]"
          ]
        },
        {
          "name": "stdout",
          "output_type": "stream",
          "text": [
            "410\n",
            "\n",
            "Q: Do the people know each other?\n",
            "Keywords: []\n",
            "Caption: two children are sitting on a couch\n",
            "Prediction: no\n",
            "GT: yes\n",
            "\n"
          ]
        },
        {
          "name": "stderr",
          "output_type": "stream",
          "text": [
            " 84%|████████▍ | 421/500 [04:30<00:54,  1.45it/s]"
          ]
        },
        {
          "name": "stdout",
          "output_type": "stream",
          "text": [
            "420\n",
            "\n",
            "Q: Is this a glass flower vase?\n",
            "Keywords: []\n",
            "Caption: a man in a red shirt is standing on a table with a red and white bike\n",
            "Prediction: No\n",
            "GT: yes\n",
            "\n"
          ]
        },
        {
          "name": "stderr",
          "output_type": "stream",
          "text": [
            " 86%|████████▌ | 431/500 [04:37<00:41,  1.65it/s]"
          ]
        },
        {
          "name": "stdout",
          "output_type": "stream",
          "text": [
            "430\n",
            "\n",
            "Q: Is the train in the city?\n",
            "Keywords: []\n",
            "Caption: a person is walking down a road\n",
            "Prediction: No\n",
            "GT: no\n",
            "\n"
          ]
        },
        {
          "name": "stderr",
          "output_type": "stream",
          "text": [
            " 88%|████████▊ | 441/500 [04:43<00:27,  2.18it/s]"
          ]
        },
        {
          "name": "stdout",
          "output_type": "stream",
          "text": [
            "440\n",
            "\n",
            "Q: What is the cat looking at?\n",
            "Keywords: ['the', 'cat', 'is', 'looking', 'at']\n",
            "Caption: the cat is looking at the camera\n",
            "Prediction: camera\n",
            "GT: camera\n",
            "\n"
          ]
        },
        {
          "name": "stderr",
          "output_type": "stream",
          "text": [
            " 90%|█████████ | 451/500 [04:49<00:25,  1.91it/s]"
          ]
        },
        {
          "name": "stdout",
          "output_type": "stream",
          "text": [
            "450\n",
            "\n",
            "Q: How many rolls of toilet paper are there?\n",
            "Keywords: ['there', 'are']\n",
            "Caption: there are two people sitting on a blue blanket\n",
            "Prediction: None\n",
            "GT: 1\n",
            "\n"
          ]
        },
        {
          "name": "stderr",
          "output_type": "stream",
          "text": [
            " 92%|█████████▏| 461/500 [04:54<00:21,  1.77it/s]"
          ]
        },
        {
          "name": "stdout",
          "output_type": "stream",
          "text": [
            "460\n",
            "\n",
            "Q: How many cats?\n",
            "Keywords: []\n",
            "Caption: a person is sitting on a blue blanket\n",
            "Prediction: a single cat\n",
            "GT: 0\n",
            "\n"
          ]
        },
        {
          "name": "stderr",
          "output_type": "stream",
          "text": [
            " 94%|█████████▍| 471/500 [05:00<00:16,  1.77it/s]"
          ]
        },
        {
          "name": "stdout",
          "output_type": "stream",
          "text": [
            "470\n",
            "\n",
            "Q: Does this toilet have a lit?\n",
            "Keywords: []\n",
            "Caption: a person is sitting on a blue blanket\n",
            "Prediction: no\n",
            "GT: yes\n",
            "\n"
          ]
        },
        {
          "name": "stderr",
          "output_type": "stream",
          "text": [
            " 96%|█████████▌| 481/500 [05:07<00:11,  1.59it/s]"
          ]
        },
        {
          "name": "stdout",
          "output_type": "stream",
          "text": [
            "480\n",
            "\n",
            "Q: Is the bathroom clean?\n",
            "Keywords: []\n",
            "Caption: a person is sitting on a blue blanket\n",
            "Prediction: no\n",
            "GT: yes\n",
            "\n"
          ]
        },
        {
          "name": "stderr",
          "output_type": "stream",
          "text": [
            " 98%|█████████▊| 491/500 [05:12<00:04,  2.09it/s]"
          ]
        },
        {
          "name": "stdout",
          "output_type": "stream",
          "text": [
            "490\n",
            "\n",
            "Q: What is the metal rack on the wall for?\n",
            "Keywords: ['the', 'metal', 'rack', 'on', 'the', 'wall', 'for', 'is']\n",
            "Caption: the metal rack on the wall for is looking at the camera\n",
            "Prediction: a camera\n",
            "GT: toilet paper holder\n",
            "\n"
          ]
        },
        {
          "name": "stderr",
          "output_type": "stream",
          "text": [
            "100%|██████████| 500/500 [05:17<00:00,  1.57it/s]\n"
          ]
        }
      ],
      "source": [
        "print(f\"Evaluating {N or len(vqa)} examples...\\n\")\n",
        "count = 0\n",
        "for example in tqdm.tqdm(vqa[:N]):\n",
        "    try:\n",
        "        img_id = int(example[\"image_id\"])\n",
        "        img_path = os.path.join(COCO_PATH, f\"COCO_val2014_{img_id:012d}.jpg\")\n",
        "\n",
        "        image_tensor = load_and_preprocess(img_path)\n",
        "        keywords = rearrange_question(example[\"question\"])\n",
        "        caption = model.simple_gen(image_tensor, temperature=0.0, initial_keywords=keywords)\n",
        "\n",
        "        prediction = answer_question_from_captions([caption], example[\"question\"])\n",
        "        references = [a[\"answer\"].lower() for a in example[\"answers\"]]\n",
        "\n",
        "        # BLEU & ROUGE\n",
        "        bleu = max(sentence_bleu([r.split()], prediction.split(), smoothing_function=smoother) for r in references)\n",
        "        rouge_l = max(rouge.score(prediction, ref)[\"rougeL\"].fmeasure for ref in references)\n",
        "\n",
        "        bleu_vals.append(bleu)\n",
        "        rouge_vals.append(rouge_l)\n",
        "        bert_preds.append(prediction)\n",
        "        bert_refs.append(references[0])\n",
        "\n",
        "        # Log sample\n",
        "        if len(bleu_vals) % 10 == 1:\n",
        "            print(count)\n",
        "            print(f\"\\nQ: {example['question']}\\nKeywords: {keywords}\\nCaption: {caption}\\nPrediction: {prediction}\\nGT: {references[0]}\\n\")\n",
        "\n",
        "        output_log.append({\n",
        "            \"image_id\": img_id,\n",
        "            \"question\": example[\"question\"],\n",
        "            \"caption\": caption,\n",
        "            \"prediction\": prediction,\n",
        "            \"ground_truth\": references\n",
        "        })\n",
        "\n",
        "    except Exception as e:\n",
        "        print(example[\"question\"])\n",
        "        print(f\"Error at {img_id}: {e}\")\n",
        "        continue\n",
        "\n",
        "    count += 1"
      ]
    },
    {
      "cell_type": "code",
      "execution_count": 285,
      "metadata": {},
      "outputs": [],
      "source": [
        "# BERTScore\n",
        "_, _, bert_f1 = bert_score(bert_preds, bert_refs, lang=\"en\", model_type=\"bert-base-uncased\")"
      ]
    },
    {
      "cell_type": "code",
      "execution_count": 286,
      "metadata": {},
      "outputs": [
        {
          "name": "stdout",
          "output_type": "stream",
          "text": [
            "\n",
            "────────── RESULTS ──────────\n",
            "Avg BLEU-4   : 0.0305\n",
            "Avg ROUGE-L  : 0.3606\n",
            "Avg BERTScore: 0.6765\n"
          ]
        }
      ],
      "source": [
        "# Final results\n",
        "print(\"\\n────────── RESULTS ──────────\")\n",
        "print(f\"Avg BLEU-4   : {np.mean(bleu_vals):.4f}\")\n",
        "print(f\"Avg ROUGE-L  : {np.mean(rouge_vals):.4f}\")\n",
        "print(f\"Avg BERTScore: {bert_f1.mean().item():.4f}\")"
      ]
    },
    {
      "cell_type": "code",
      "execution_count": 287,
      "metadata": {},
      "outputs": [
        {
          "name": "stdout",
          "output_type": "stream",
          "text": [
            "\n",
            "Saved results to 'vqa_eval_results.csv'\n"
          ]
        }
      ],
      "source": [
        "# Save CSV\n",
        "df = pd.DataFrame(output_log)\n",
        "df.to_csv(\"vqa_eval_results.csv\", index=False)\n",
        "print(\"\\nSaved results to 'vqa_eval_results.csv'\")"
      ]
    },
    {
      "cell_type": "code",
      "execution_count": null,
      "metadata": {},
      "outputs": [],
      "source": []
    }
  ],
  "metadata": {
    "accelerator": "GPU",
    "colab": {
      "collapsed_sections": [],
      "name": "image_captioning.ipynb",
      "toc_visible": true
    },
    "kernelspec": {
      "display_name": "Python 3",
      "name": "python3"
    },
    "language_info": {
      "codemirror_mode": {
        "name": "ipython",
        "version": 3
      },
      "file_extension": ".py",
      "mimetype": "text/x-python",
      "name": "python",
      "nbconvert_exporter": "python",
      "pygments_lexer": "ipython3",
      "version": "3.11.0"
    }
  },
  "nbformat": 4,
  "nbformat_minor": 0
}
